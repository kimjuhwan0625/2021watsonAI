{
  "nbformat": 4,
  "nbformat_minor": 0,
  "metadata": {
    "colab": {
      "name": "tensorBasic.ipynb의 사본",
      "provenance": [],
      "collapsed_sections": []
    },
    "kernelspec": {
      "name": "python3",
      "display_name": "Python 3"
    }
  },
  "cells": [
    {
      "cell_type": "markdown",
      "metadata": {
        "id": "0MCTPwo-I_9X"
      },
      "source": [
        "복잡한 행렬식은 파이썬 코드로 간단하게 처리할 수 있습니다!"
      ]
    },
    {
      "cell_type": "code",
      "metadata": {
        "id": "rweaNDpildjE"
      },
      "source": [
        "import tensorflow as tf"
      ],
      "execution_count": 1,
      "outputs": []
    },
    {
      "cell_type": "markdown",
      "metadata": {
        "id": "qQZ3i0apJYUM"
      },
      "source": [
        "이것이 2x3 행렬을 코드로 표현한 것입니다"
      ]
    },
    {
      "cell_type": "code",
      "metadata": {
        "id": "JQUJ6rE1kVdr",
        "colab": {
          "base_uri": "https://localhost:8080/"
        },
        "outputId": "6e83427d-170a-44b1-a227-9d0331b27d92"
      },
      "source": [
        "x=tf.constant([[1.0,2.0,3.0],[4.0,5.0,6.0]])\n",
        "print(x)\n",
        "print(x.shape)"
      ],
      "execution_count": 2,
      "outputs": [
        {
          "output_type": "stream",
          "text": [
            "tf.Tensor(\n",
            "[[1. 2. 3.]\n",
            " [4. 5. 6.]], shape=(2, 3), dtype=float32)\n",
            "(2, 3)\n"
          ],
          "name": "stdout"
        }
      ]
    },
    {
      "cell_type": "markdown",
      "metadata": {
        "id": "kVSerqtcJ_B1"
      },
      "source": [
        "행렬의 덧셈"
      ]
    },
    {
      "cell_type": "code",
      "metadata": {
        "id": "bA9D52I-YMKR",
        "colab": {
          "base_uri": "https://localhost:8080/"
        },
        "outputId": "e7bf9a87-d789-43cd-c5d7-d0537b694c21"
      },
      "source": [
        "j=tf.constant([1,2,3,4,5,6], shape=[2,3])\n",
        "print(j)\n",
        "k=tf.constant([7,8,9,10,11,12], shape=[2,3])\n",
        "print(k)\n",
        "l=tf.add(j,k)\n",
        "print(l)"
      ],
      "execution_count": 3,
      "outputs": [
        {
          "output_type": "stream",
          "text": [
            "tf.Tensor(\n",
            "[[1 2 3]\n",
            " [4 5 6]], shape=(2, 3), dtype=int32)\n",
            "tf.Tensor(\n",
            "[[ 7  8  9]\n",
            " [10 11 12]], shape=(2, 3), dtype=int32)\n",
            "tf.Tensor(\n",
            "[[ 8 10 12]\n",
            " [14 16 18]], shape=(2, 3), dtype=int32)\n"
          ],
          "name": "stdout"
        }
      ]
    },
    {
      "cell_type": "markdown",
      "metadata": {
        "id": "W4J-lK9uKFV8"
      },
      "source": [
        "행렬의 곱셈"
      ]
    },
    {
      "cell_type": "code",
      "metadata": {
        "id": "FULRdwvVoOlC",
        "colab": {
          "base_uri": "https://localhost:8080/"
        },
        "outputId": "ab623380-22a5-4519-e9f8-d31d1e55bd6f"
      },
      "source": [
        "a=tf.constant([1,2,3,4,5,6], shape=[2,3])\n",
        "print(a)"
      ],
      "execution_count": 4,
      "outputs": [
        {
          "output_type": "stream",
          "text": [
            "tf.Tensor(\n",
            "[[1 2 3]\n",
            " [4 5 6]], shape=(2, 3), dtype=int32)\n"
          ],
          "name": "stdout"
        }
      ]
    },
    {
      "cell_type": "code",
      "metadata": {
        "id": "LQq7SUuOpB-O",
        "colab": {
          "base_uri": "https://localhost:8080/"
        },
        "outputId": "7c8ba921-9854-4411-b0d7-828294a985c5"
      },
      "source": [
        "b=tf.constant([7,8,9,10,11,12], shape=[3,2])\n",
        "print(b)"
      ],
      "execution_count": 5,
      "outputs": [
        {
          "output_type": "stream",
          "text": [
            "tf.Tensor(\n",
            "[[ 7  8]\n",
            " [ 9 10]\n",
            " [11 12]], shape=(3, 2), dtype=int32)\n"
          ],
          "name": "stdout"
        }
      ]
    },
    {
      "cell_type": "code",
      "metadata": {
        "id": "0tvyrgBIYLBb",
        "colab": {
          "base_uri": "https://localhost:8080/"
        },
        "outputId": "0d9cd5a1-818a-4c2d-879f-7349667e4c45"
      },
      "source": [
        "c=tf.matmul(a,b)\n",
        "print(c)"
      ],
      "execution_count": 6,
      "outputs": [
        {
          "output_type": "stream",
          "text": [
            "tf.Tensor(\n",
            "[[ 58  64]\n",
            " [139 154]], shape=(2, 2), dtype=int32)\n"
          ],
          "name": "stdout"
        }
      ]
    },
    {
      "cell_type": "markdown",
      "metadata": {
        "id": "enoiJQRhKnP1"
      },
      "source": [
        "행렬의 나눗셈. 1/x을 계산하기"
      ]
    },
    {
      "cell_type": "code",
      "metadata": {
        "id": "8KdiTMNvbhHT",
        "colab": {
          "base_uri": "https://localhost:8080/"
        },
        "outputId": "fa87c2cc-d294-4cb5-dcc5-07281ccb430d"
      },
      "source": [
        "x = tf.constant([[2, 0], [0, 1]], dtype=tf.float32)\n",
        "print('x = ', x)\n",
        "print()\n",
        "y=tf.linalg.inv(x).numpy()\n",
        "print('y = ', y)\n",
        "print()\n",
        "print('x 곱하기 y =', tf.matmul(x,y))\n"
      ],
      "execution_count": 7,
      "outputs": [
        {
          "output_type": "stream",
          "text": [
            "x =  tf.Tensor(\n",
            "[[2. 0.]\n",
            " [0. 1.]], shape=(2, 2), dtype=float32)\n",
            "\n",
            "y =  [[0.5 0. ]\n",
            " [0.  1. ]]\n",
            "\n",
            "x 곱하기 y = tf.Tensor(\n",
            "[[1. 0.]\n",
            " [0. 1.]], shape=(2, 2), dtype=float32)\n"
          ],
          "name": "stdout"
        }
      ]
    },
    {
      "cell_type": "code",
      "metadata": {
        "id": "oDkCQDRFlhiG",
        "colab": {
          "base_uri": "https://localhost:8080/"
        },
        "outputId": "53104efe-710c-4319-a42d-02b5db79ec0a"
      },
      "source": [
        "y=tf.constant([[1.0,0.0],[0.0, 1.0], [1.0, 0.0], [0.0, 1.0]])\n",
        "print(y)\n",
        "print(y.shape)"
      ],
      "execution_count": 8,
      "outputs": [
        {
          "output_type": "stream",
          "text": [
            "tf.Tensor(\n",
            "[[1. 0.]\n",
            " [0. 1.]\n",
            " [1. 0.]\n",
            " [0. 1.]], shape=(4, 2), dtype=float32)\n",
            "(4, 2)\n"
          ],
          "name": "stdout"
        }
      ]
    },
    {
      "cell_type": "code",
      "metadata": {
        "id": "qPbaRFw7psag",
        "colab": {
          "base_uri": "https://localhost:8080/"
        },
        "outputId": "0a53b4f0-583a-42f7-c8ad-3a7bde507731"
      },
      "source": [
        "print(y.dtype)"
      ],
      "execution_count": 9,
      "outputs": [
        {
          "output_type": "stream",
          "text": [
            "<dtype: 'float32'>\n"
          ],
          "name": "stdout"
        }
      ]
    }
  ]
}