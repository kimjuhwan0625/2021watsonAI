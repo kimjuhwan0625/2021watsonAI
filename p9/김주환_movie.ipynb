{
 "cells": [
  {
   "cell_type": "code",
   "execution_count": 1,
   "metadata": {
    "scrolled": true
   },
   "outputs": [
    {
     "name": "stdout",
     "output_type": "stream",
     "text": [
      "/opt/conda/envs/Python-3.7-main/lib/python3.7/site-packages/secretstorage/dhcrypto.py:16: CryptographyDeprecationWarning: int_from_bytes is deprecated, use int.from_bytes instead\n",
      "  from cryptography.utils import int_from_bytes\n",
      "/opt/conda/envs/Python-3.7-main/lib/python3.7/site-packages/secretstorage/util.py:25: CryptographyDeprecationWarning: int_from_bytes is deprecated, use int.from_bytes instead\n",
      "  from cryptography.utils import int_from_bytes\n",
      "Collecting pip\n",
      "  Downloading pip-21.1-py3-none-any.whl (1.5 MB)\n",
      "\u001b[K     |████████████████████████████████| 1.5 MB 15.3 MB/s eta 0:00:01\n",
      "\u001b[?25hInstalling collected packages: pip\n",
      "  Attempting uninstall: pip\n",
      "    Found existing installation: pip 20.1.1\n",
      "    Uninstalling pip-20.1.1:\n",
      "      Successfully uninstalled pip-20.1.1\n",
      "Successfully installed pip-21.1\n",
      "/opt/conda/envs/Python-3.7-main/lib/python3.7/site-packages/secretstorage/dhcrypto.py:16: CryptographyDeprecationWarning: int_from_bytes is deprecated, use int.from_bytes instead\n",
      "  from cryptography.utils import int_from_bytes\n",
      "/opt/conda/envs/Python-3.7-main/lib/python3.7/site-packages/secretstorage/util.py:25: CryptographyDeprecationWarning: int_from_bytes is deprecated, use int.from_bytes instead\n",
      "  from cryptography.utils import int_from_bytes\n",
      "\u001b[33mWARNING: Value for scheme.headers does not match. Please report this to <https://github.com/pypa/pip/issues/9617>\n",
      "distutils: /opt/conda/envs/Python-3.7-main/include/python3.7m/UNKNOWN\n",
      "sysconfig: /opt/conda/envs/Python-3.7-main/include/python3.7m\u001b[0m\n",
      "\u001b[33mWARNING: Additional context:\n",
      "user = False\n",
      "home = None\n",
      "root = None\n",
      "prefix = None\u001b[0m\n",
      "Requirement already satisfied: lxml in /opt/conda/envs/Python-3.7-main/lib/python3.7/site-packages (4.5.1)\n",
      "\u001b[33mWARNING: Value for scheme.headers does not match. Please report this to <https://github.com/pypa/pip/issues/9617>\n",
      "distutils: /opt/conda/envs/Python-3.7-main/include/python3.7m/UNKNOWN\n",
      "sysconfig: /opt/conda/envs/Python-3.7-main/include/python3.7m\u001b[0m\n",
      "\u001b[33mWARNING: Additional context:\n",
      "user = False\n",
      "home = None\n",
      "root = None\n",
      "prefix = None\u001b[0m\n",
      "/opt/conda/envs/Python-3.7-main/lib/python3.7/site-packages/secretstorage/dhcrypto.py:16: CryptographyDeprecationWarning: int_from_bytes is deprecated, use int.from_bytes instead\n",
      "  from cryptography.utils import int_from_bytes\n",
      "/opt/conda/envs/Python-3.7-main/lib/python3.7/site-packages/secretstorage/util.py:25: CryptographyDeprecationWarning: int_from_bytes is deprecated, use int.from_bytes instead\n",
      "  from cryptography.utils import int_from_bytes\n",
      "\u001b[33mWARNING: Value for scheme.headers does not match. Please report this to <https://github.com/pypa/pip/issues/9617>\n",
      "distutils: /opt/conda/envs/Python-3.7-main/include/python3.7m/UNKNOWN\n",
      "sysconfig: /opt/conda/envs/Python-3.7-main/include/python3.7m\u001b[0m\n",
      "\u001b[33mWARNING: Additional context:\n",
      "user = False\n",
      "home = None\n",
      "root = None\n",
      "prefix = None\u001b[0m\n",
      "Collecting utils\n",
      "  Downloading utils-1.0.1-py2.py3-none-any.whl (21 kB)\n",
      "Installing collected packages: utils\n",
      "\u001b[33mWARNING: Value for scheme.headers does not match. Please report this to <https://github.com/pypa/pip/issues/9617>\n",
      "distutils: /opt/conda/envs/Python-3.7-main/include/python3.7m/UNKNOWN\n",
      "sysconfig: /opt/conda/envs/Python-3.7-main/include/python3.7m\u001b[0m\n",
      "\u001b[33mWARNING: Additional context:\n",
      "user = False\n",
      "home = None\n",
      "root = None\n",
      "prefix = None\u001b[0m\n",
      "Successfully installed utils-1.0.1\n",
      "/opt/conda/envs/Python-3.7-main/lib/python3.7/site-packages/secretstorage/dhcrypto.py:16: CryptographyDeprecationWarning: int_from_bytes is deprecated, use int.from_bytes instead\n",
      "  from cryptography.utils import int_from_bytes\n",
      "/opt/conda/envs/Python-3.7-main/lib/python3.7/site-packages/secretstorage/util.py:25: CryptographyDeprecationWarning: int_from_bytes is deprecated, use int.from_bytes instead\n",
      "  from cryptography.utils import int_from_bytes\n",
      "\u001b[33mWARNING: Value for scheme.headers does not match. Please report this to <https://github.com/pypa/pip/issues/9617>\n",
      "distutils: /opt/conda/envs/Python-3.7-main/include/python3.7m/UNKNOWN\n",
      "sysconfig: /opt/conda/envs/Python-3.7-main/include/python3.7m\u001b[0m\n",
      "\u001b[33mWARNING: Additional context:\n",
      "user = False\n",
      "home = None\n",
      "root = None\n",
      "prefix = None\u001b[0m\n",
      "Collecting paramiko\n",
      "  Downloading paramiko-2.7.2-py2.py3-none-any.whl (206 kB)\n",
      "\u001b[K     |████████████████████████████████| 206 kB 14.7 MB/s eta 0:00:01\n",
      "\u001b[?25hRequirement already satisfied: cryptography>=2.5 in /opt/conda/envs/Python-3.7-main/lib/python3.7/site-packages (from paramiko) (3.4.7)\n",
      "Collecting pynacl>=1.0.1\n",
      "  Downloading PyNaCl-1.4.0-cp35-abi3-manylinux1_x86_64.whl (961 kB)\n",
      "\u001b[K     |████████████████████████████████| 961 kB 16.5 MB/s eta 0:00:01\n",
      "\u001b[?25hCollecting bcrypt>=3.1.3\n",
      "  Downloading bcrypt-3.2.0-cp36-abi3-manylinux2010_x86_64.whl (63 kB)\n",
      "\u001b[K     |████████████████████████████████| 63 kB 3.7 MB/s eta 0:00:011\n",
      "\u001b[?25hRequirement already satisfied: cffi>=1.1 in /opt/conda/envs/Python-3.7-main/lib/python3.7/site-packages (from bcrypt>=3.1.3->paramiko) (1.14.0)\n",
      "Requirement already satisfied: six>=1.4.1 in /opt/conda/envs/Python-3.7-main/lib/python3.7/site-packages (from bcrypt>=3.1.3->paramiko) (1.15.0)\n",
      "Requirement already satisfied: pycparser in /opt/conda/envs/Python-3.7-main/lib/python3.7/site-packages (from cffi>=1.1->bcrypt>=3.1.3->paramiko) (2.20)\n",
      "Installing collected packages: pynacl, bcrypt, paramiko\n",
      "\u001b[33mWARNING: Value for scheme.headers does not match. Please report this to <https://github.com/pypa/pip/issues/9617>\n",
      "distutils: /opt/conda/envs/Python-3.7-main/include/python3.7m/UNKNOWN\n",
      "sysconfig: /opt/conda/envs/Python-3.7-main/include/python3.7m\u001b[0m\n",
      "\u001b[33mWARNING: Additional context:\n",
      "user = False\n",
      "home = None\n",
      "root = None\n",
      "prefix = None\u001b[0m\n",
      "Successfully installed bcrypt-3.2.0 paramiko-2.7.2 pynacl-1.4.0\n",
      "/opt/conda/envs/Python-3.7-main/lib/python3.7/site-packages/secretstorage/dhcrypto.py:16: CryptographyDeprecationWarning: int_from_bytes is deprecated, use int.from_bytes instead\n",
      "  from cryptography.utils import int_from_bytes\n",
      "/opt/conda/envs/Python-3.7-main/lib/python3.7/site-packages/secretstorage/util.py:25: CryptographyDeprecationWarning: int_from_bytes is deprecated, use int.from_bytes instead\n",
      "  from cryptography.utils import int_from_bytes\n",
      "\u001b[33mWARNING: Value for scheme.headers does not match. Please report this to <https://github.com/pypa/pip/issues/9617>\n",
      "distutils: /opt/conda/envs/Python-3.7-main/include/python3.7m/UNKNOWN\n",
      "sysconfig: /opt/conda/envs/Python-3.7-main/include/python3.7m\u001b[0m\n",
      "\u001b[33mWARNING: Additional context:\n",
      "user = False\n",
      "home = None\n",
      "root = None\n",
      "prefix = None\u001b[0m\n",
      "Requirement already satisfied: nltk in /opt/conda/envs/Python-3.7-main/lib/python3.7/site-packages (3.5)\n",
      "Requirement already satisfied: joblib in /opt/conda/envs/Python-3.7-main/lib/python3.7/site-packages (from nltk) (0.16.0)\n",
      "Requirement already satisfied: click in /opt/conda/envs/Python-3.7-main/lib/python3.7/site-packages (from nltk) (7.1.2)\n",
      "Requirement already satisfied: tqdm in /opt/conda/envs/Python-3.7-main/lib/python3.7/site-packages (from nltk) (4.47.0)\n",
      "Requirement already satisfied: regex in /opt/conda/envs/Python-3.7-main/lib/python3.7/site-packages (from nltk) (2020.6.8)\n",
      "\u001b[33mWARNING: Value for scheme.headers does not match. Please report this to <https://github.com/pypa/pip/issues/9617>\n",
      "distutils: /opt/conda/envs/Python-3.7-main/include/python3.7m/UNKNOWN\n",
      "sysconfig: /opt/conda/envs/Python-3.7-main/include/python3.7m\u001b[0m\n",
      "\u001b[33mWARNING: Additional context:\n",
      "user = False\n",
      "home = None\n",
      "root = None\n",
      "prefix = None\u001b[0m\n"
     ]
    }
   ],
   "source": [
    "! pip install --upgrade pip\n",
    "! pip install lxml\n",
    "! pip install utils\n",
    "! pip install paramiko\n",
    "! pip install nltk"
   ]
  },
  {
   "cell_type": "code",
   "execution_count": 2,
   "metadata": {},
   "outputs": [
    {
     "name": "stdout",
     "output_type": "stream",
     "text": [
      "/opt/conda/envs/Python-3.7-main/lib/python3.7/site-packages/secretstorage/dhcrypto.py:16: CryptographyDeprecationWarning: int_from_bytes is deprecated, use int.from_bytes instead\n",
      "  from cryptography.utils import int_from_bytes\n",
      "/opt/conda/envs/Python-3.7-main/lib/python3.7/site-packages/secretstorage/util.py:25: CryptographyDeprecationWarning: int_from_bytes is deprecated, use int.from_bytes instead\n",
      "  from cryptography.utils import int_from_bytes\n",
      "\u001b[33mWARNING: Value for scheme.headers does not match. Please report this to <https://github.com/pypa/pip/issues/9617>\n",
      "distutils: /opt/conda/envs/Python-3.7-main/include/python3.7m/UNKNOWN\n",
      "sysconfig: /opt/conda/envs/Python-3.7-main/include/python3.7m\u001b[0m\n",
      "\u001b[33mWARNING: Additional context:\n",
      "user = False\n",
      "home = None\n",
      "root = None\n",
      "prefix = None\u001b[0m\n",
      "Collecting konlpy\n",
      "  Downloading konlpy-0.5.2-py2.py3-none-any.whl (19.4 MB)\n",
      "\u001b[K     |████████████████████████████████| 19.4 MB 9.8 MB/s eta 0:00:01\n",
      "\u001b[?25hRequirement already satisfied: numpy>=1.6 in /opt/conda/envs/Python-3.7-main/lib/python3.7/site-packages (from konlpy) (1.18.5)\n",
      "Collecting tweepy>=3.7.0\n",
      "  Downloading tweepy-3.10.0-py2.py3-none-any.whl (30 kB)\n",
      "Requirement already satisfied: lxml>=4.1.0 in /opt/conda/envs/Python-3.7-main/lib/python3.7/site-packages (from konlpy) (4.5.1)\n",
      "Collecting JPype1>=0.7.0\n",
      "  Downloading JPype1-1.2.1-cp37-cp37m-manylinux2010_x86_64.whl (457 kB)\n",
      "\u001b[K     |████████████████████████████████| 457 kB 35.7 MB/s eta 0:00:01\n",
      "\u001b[?25hCollecting colorama\n",
      "  Downloading colorama-0.4.4-py2.py3-none-any.whl (16 kB)\n",
      "Collecting beautifulsoup4==4.6.0\n",
      "  Downloading beautifulsoup4-4.6.0-py3-none-any.whl (86 kB)\n",
      "\u001b[K     |████████████████████████████████| 86 kB 10.2 MB/s eta 0:00:01\n",
      "\u001b[?25hRequirement already satisfied: typing-extensions in /opt/conda/envs/Python-3.7-main/lib/python3.7/site-packages (from JPype1>=0.7.0->konlpy) (3.7.4.2)\n",
      "Requirement already satisfied: requests-oauthlib>=0.7.0 in /opt/conda/envs/Python-3.7-main/lib/python3.7/site-packages (from tweepy>=3.7.0->konlpy) (1.3.0)\n",
      "Requirement already satisfied: six>=1.10.0 in /opt/conda/envs/Python-3.7-main/lib/python3.7/site-packages (from tweepy>=3.7.0->konlpy) (1.15.0)\n",
      "Requirement already satisfied: requests[socks]>=2.11.1 in /opt/conda/envs/Python-3.7-main/lib/python3.7/site-packages (from tweepy>=3.7.0->konlpy) (2.24.0)\n",
      "Requirement already satisfied: oauthlib>=3.0.0 in /opt/conda/envs/Python-3.7-main/lib/python3.7/site-packages (from requests-oauthlib>=0.7.0->tweepy>=3.7.0->konlpy) (3.1.0)\n",
      "Requirement already satisfied: urllib3!=1.25.0,!=1.25.1,<1.26,>=1.21.1 in /opt/conda/envs/Python-3.7-main/lib/python3.7/site-packages (from requests[socks]>=2.11.1->tweepy>=3.7.0->konlpy) (1.25.9)\n",
      "Requirement already satisfied: idna<3,>=2.5 in /opt/conda/envs/Python-3.7-main/lib/python3.7/site-packages (from requests[socks]>=2.11.1->tweepy>=3.7.0->konlpy) (2.9)\n",
      "Requirement already satisfied: chardet<4,>=3.0.2 in /opt/conda/envs/Python-3.7-main/lib/python3.7/site-packages (from requests[socks]>=2.11.1->tweepy>=3.7.0->konlpy) (3.0.4)\n",
      "Requirement already satisfied: certifi>=2017.4.17 in /opt/conda/envs/Python-3.7-main/lib/python3.7/site-packages (from requests[socks]>=2.11.1->tweepy>=3.7.0->konlpy) (2020.12.5)\n",
      "Requirement already satisfied: PySocks!=1.5.7,>=1.5.6 in /opt/conda/envs/Python-3.7-main/lib/python3.7/site-packages (from requests[socks]>=2.11.1->tweepy>=3.7.0->konlpy) (1.7.1)\n",
      "Installing collected packages: tweepy, JPype1, colorama, beautifulsoup4, konlpy\n",
      "  Attempting uninstall: JPype1\n",
      "    Found existing installation: JPype1 0.6.3\n",
      "    Uninstalling JPype1-0.6.3:\n",
      "      Successfully uninstalled JPype1-0.6.3\n",
      "  Attempting uninstall: beautifulsoup4\n",
      "    Found existing installation: beautifulsoup4 4.9.1\n",
      "    Uninstalling beautifulsoup4-4.9.1:\n",
      "      Successfully uninstalled beautifulsoup4-4.9.1\n",
      "\u001b[33mWARNING: Value for scheme.headers does not match. Please report this to <https://github.com/pypa/pip/issues/9617>\n",
      "distutils: /opt/conda/envs/Python-3.7-main/include/python3.7m/UNKNOWN\n",
      "sysconfig: /opt/conda/envs/Python-3.7-main/include/python3.7m\u001b[0m\n",
      "\u001b[33mWARNING: Additional context:\n",
      "user = False\n",
      "home = None\n",
      "root = None\n",
      "prefix = None\u001b[0m\n",
      "Successfully installed JPype1-1.2.1 beautifulsoup4-4.6.0 colorama-0.4.4 konlpy-0.5.2 tweepy-3.10.0\n",
      "/opt/conda/envs/Python-3.7-main/lib/python3.7/site-packages/secretstorage/dhcrypto.py:16: CryptographyDeprecationWarning: int_from_bytes is deprecated, use int.from_bytes instead\n",
      "  from cryptography.utils import int_from_bytes\n",
      "/opt/conda/envs/Python-3.7-main/lib/python3.7/site-packages/secretstorage/util.py:25: CryptographyDeprecationWarning: int_from_bytes is deprecated, use int.from_bytes instead\n",
      "  from cryptography.utils import int_from_bytes\n",
      "\u001b[33mWARNING: Value for scheme.headers does not match. Please report this to <https://github.com/pypa/pip/issues/9617>\n",
      "distutils: /opt/conda/envs/Python-3.7-main/include/python3.7m/UNKNOWN\n",
      "sysconfig: /opt/conda/envs/Python-3.7-main/include/python3.7m\u001b[0m\n",
      "\u001b[33mWARNING: Additional context:\n",
      "user = False\n",
      "home = None\n",
      "root = None\n",
      "prefix = None\u001b[0m\n",
      "Collecting gensim\n",
      "  Downloading gensim-4.0.1-cp37-cp37m-manylinux1_x86_64.whl (23.9 MB)\n",
      "\u001b[K     |████████████████████████████████| 23.9 MB 13.7 MB/s eta 0:00:01\n",
      "\u001b[?25hRequirement already satisfied: numpy>=1.11.3 in /opt/conda/envs/Python-3.7-main/lib/python3.7/site-packages (from gensim) (1.18.5)\n",
      "Requirement already satisfied: scipy>=0.18.1 in /opt/conda/envs/Python-3.7-main/lib/python3.7/site-packages (from gensim) (1.5.0)\n",
      "Collecting smart-open>=1.8.1\n",
      "  Downloading smart_open-5.0.0-py3-none-any.whl (56 kB)\n",
      "\u001b[K     |████████████████████████████████| 56 kB 9.1 MB/s  eta 0:00:01\n",
      "\u001b[?25hInstalling collected packages: smart-open, gensim\n",
      "\u001b[33mWARNING: Value for scheme.headers does not match. Please report this to <https://github.com/pypa/pip/issues/9617>\n",
      "distutils: /opt/conda/envs/Python-3.7-main/include/python3.7m/UNKNOWN\n",
      "sysconfig: /opt/conda/envs/Python-3.7-main/include/python3.7m\u001b[0m\n",
      "\u001b[33mWARNING: Additional context:\n",
      "user = False\n",
      "home = None\n",
      "root = None\n",
      "prefix = None\u001b[0m\n",
      "Successfully installed gensim-4.0.1 smart-open-5.0.0\n"
     ]
    }
   ],
   "source": [
    "! pip  install konlpy\n",
    "! pip install gensim"
   ]
  },
  {
   "cell_type": "code",
   "execution_count": 3,
   "metadata": {},
   "outputs": [
    {
     "name": "stdout",
     "output_type": "stream",
     "text": [
      "--2021-04-28 11:27:04--  https://docs.google.com/uc?export=download&confirm=29vQ&id=1ud4DopDTWm0YBN_tpkvQ3Qax87UDgpcO\n",
      "Resolving docs.google.com (docs.google.com)... 216.58.194.78, 2607:f8b0:4000:80e::200e\n",
      "Connecting to docs.google.com (docs.google.com)|216.58.194.78|:443... connected.\n",
      "HTTP request sent, awaiting response... 302 Moved Temporarily\n",
      "Location: https://doc-14-8c-docs.googleusercontent.com/docs/securesc/cvnonb3b859tt6tmuk885hqsamgsap07/eoskg74b14shoa52rk8mp1uucah6ehrb/1619609175000/04591858293269658552/07613097852314615096Z/1ud4DopDTWm0YBN_tpkvQ3Qax87UDgpcO?e=download [following]\n",
      "--2021-04-28 11:27:04--  https://doc-14-8c-docs.googleusercontent.com/docs/securesc/cvnonb3b859tt6tmuk885hqsamgsap07/eoskg74b14shoa52rk8mp1uucah6ehrb/1619609175000/04591858293269658552/07613097852314615096Z/1ud4DopDTWm0YBN_tpkvQ3Qax87UDgpcO?e=download\n",
      "Resolving doc-14-8c-docs.googleusercontent.com (doc-14-8c-docs.googleusercontent.com)... 142.250.113.132, 2607:f8b0:4000:80c::2001\n",
      "Connecting to doc-14-8c-docs.googleusercontent.com (doc-14-8c-docs.googleusercontent.com)|142.250.113.132|:443... connected.\n",
      "HTTP request sent, awaiting response... 302 Found\n",
      "Location: https://docs.google.com/nonceSigner?nonce=h6qrdir1v8ihq&continue=https://doc-14-8c-docs.googleusercontent.com/docs/securesc/cvnonb3b859tt6tmuk885hqsamgsap07/eoskg74b14shoa52rk8mp1uucah6ehrb/1619609175000/04591858293269658552/07613097852314615096Z/1ud4DopDTWm0YBN_tpkvQ3Qax87UDgpcO?e%3Ddownload&hash=ji07ec4vl8rors5hecvfc4avuvr12d1h [following]\n",
      "--2021-04-28 11:27:04--  https://docs.google.com/nonceSigner?nonce=h6qrdir1v8ihq&continue=https://doc-14-8c-docs.googleusercontent.com/docs/securesc/cvnonb3b859tt6tmuk885hqsamgsap07/eoskg74b14shoa52rk8mp1uucah6ehrb/1619609175000/04591858293269658552/07613097852314615096Z/1ud4DopDTWm0YBN_tpkvQ3Qax87UDgpcO?e%3Ddownload&hash=ji07ec4vl8rors5hecvfc4avuvr12d1h\n",
      "Connecting to docs.google.com (docs.google.com)|216.58.194.78|:443... connected.\n",
      "HTTP request sent, awaiting response... 302 Found\n",
      "Location: https://doc-14-8c-docs.googleusercontent.com/docs/securesc/cvnonb3b859tt6tmuk885hqsamgsap07/eoskg74b14shoa52rk8mp1uucah6ehrb/1619609175000/04591858293269658552/07613097852314615096Z/1ud4DopDTWm0YBN_tpkvQ3Qax87UDgpcO?e=download&nonce=h6qrdir1v8ihq&user=07613097852314615096Z&hash=6rcqbj05crcf78diuj209rp3pr6h0nmn [following]\n",
      "--2021-04-28 11:27:04--  https://doc-14-8c-docs.googleusercontent.com/docs/securesc/cvnonb3b859tt6tmuk885hqsamgsap07/eoskg74b14shoa52rk8mp1uucah6ehrb/1619609175000/04591858293269658552/07613097852314615096Z/1ud4DopDTWm0YBN_tpkvQ3Qax87UDgpcO?e=download&nonce=h6qrdir1v8ihq&user=07613097852314615096Z&hash=6rcqbj05crcf78diuj209rp3pr6h0nmn\n",
      "Connecting to doc-14-8c-docs.googleusercontent.com (doc-14-8c-docs.googleusercontent.com)|142.250.113.132|:443... connected.\n",
      "HTTP request sent, awaiting response... 200 OK\n",
      "Length: unspecified [application/zip]\n",
      "Saving to: ‘NaverMovie.model.zip’\n",
      "\n",
      "NaverMovie.model.zi     [      <=>           ]  69.06M  51.3MB/s    in 1.3s    \n",
      "\n",
      "2021-04-28 11:27:06 (51.3 MB/s) - ‘NaverMovie.model.zip’ saved [72411034]\n",
      "\n"
     ]
    }
   ],
   "source": [
    "! wget --load-cookies cookies.txt \"https://docs.google.com/uc?export=download&confirm=$(wget --quiet --save-cookies cookies.txt --keep-session-cookies --no-check-certificate 'https://docs.google.com/uc?export=download&id=1ud4DopDTWm0YBN_tpkvQ3Qax87UDgpcO' -O- | sed -rn 's/.*confirm=([0-9A-Za-z_]+).*/\\1\\n/p')&id=1ud4DopDTWm0YBN_tpkvQ3Qax87UDgpcO\" -O NaverMovie.model.zip && rm -rf cookies.txt"
   ]
  },
  {
   "cell_type": "code",
   "execution_count": 4,
   "metadata": {},
   "outputs": [
    {
     "name": "stdout",
     "output_type": "stream",
     "text": [
      "total 70716\r\n",
      "-rw-rw---- 1 wsuser watsonstudio 72411034 Apr 28 11:27 NaverMovie.model.zip\r\n"
     ]
    }
   ],
   "source": [
    "! ls -l "
   ]
  },
  {
   "cell_type": "code",
   "execution_count": 5,
   "metadata": {},
   "outputs": [
    {
     "name": "stdout",
     "output_type": "stream",
     "text": [
      "Archive:  NaverMovie.model.zip\n",
      "  inflating: NaverMovie.model        \n",
      "   creating: __MACOSX/\n",
      "  inflating: __MACOSX/._NaverMovie.model  \n"
     ]
    }
   ],
   "source": [
    "! unzip -o NaverMovie.model.zip"
   ]
  },
  {
   "cell_type": "code",
   "execution_count": 6,
   "metadata": {},
   "outputs": [
    {
     "name": "stderr",
     "output_type": "stream",
     "text": [
      "/opt/conda/envs/Python-3.7-main/lib/python3.7/site-packages/gensim/similarities/__init__.py:15: UserWarning: The gensim.similarities.levenshtein submodule is disabled, because the optional Levenshtein package <https://pypi.org/project/python-Levenshtein/> is unavailable. Install Levenhstein (e.g. `pip install python-Levenshtein`) to suppress this warning.\n",
      "  warnings.warn(msg)\n"
     ]
    }
   ],
   "source": [
    " import csv\n",
    " from konlpy.tag import Okt\n",
    " from gensim.models import word2vec"
   ]
  },
  {
   "cell_type": "code",
   "execution_count": 7,
   "metadata": {},
   "outputs": [
    {
     "name": "stdout",
     "output_type": "stream",
     "text": [
      "***배트맨*****\n",
      "[('비긴즈', 0.70243901014328), ('신용카드', 0.6246640086174011), ('포에버', 0.6128872036933899), ('다크나이트', 0.5437883734703064), ('조엘', 0.5344933271408081), ('담시', 0.5325262546539307), ('시리즈', 0.5035833120346069), ('버튼', 0.49162426590919495), ('배트', 0.4844802916049957), ('베트맨', 0.48180198669433594)]\n",
      "***겨울왕국*****\n",
      "[('라푼젤', 0.6613779664039612), ('라이언킹', 0.5773433446884155), ('애니', 0.551832914352417), ('토이스토리', 0.5433341264724731), ('프로즌', 0.5401561856269836), ('더빙', 0.5370488166809082), ('애니메이션', 0.5346933007240295), ('더파이팅', 0.5277788639068604), ('어린이날', 0.525366485118866), ('디즈니', 0.5229409337043762)]\n"
     ]
    }
   ],
   "source": [
    "model = word2vec.Word2Vec.load(\"NaverMovie.model\")\n",
    "print(\"***배트맨*****\")\n",
    "print(model.wv.most_similar(positive=[\"배트맨\"]))\n",
    "print(\"***겨울왕국*****\")\n",
    "print(model.wv.most_similar(positive=[\"겨울왕국\"]))"
   ]
  }
 ],
 "metadata": {
  "kernelspec": {
   "display_name": "Python 3.7",
   "language": "python",
   "name": "python3"
  },
  "language_info": {
   "codemirror_mode": {
    "name": "ipython",
    "version": 3
   },
   "file_extension": ".py",
   "mimetype": "text/x-python",
   "name": "python",
   "nbconvert_exporter": "python",
   "pygments_lexer": "ipython3",
   "version": "3.7.10"
  }
 },
 "nbformat": 4,
 "nbformat_minor": 2
}
