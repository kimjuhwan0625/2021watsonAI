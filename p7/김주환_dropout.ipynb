{
  "nbformat": 4,
  "nbformat_minor": 0,
  "metadata": {
    "kernelspec": {
      "display_name": "Python 3.7",
      "language": "python",
      "name": "python3"
    },
    "language_info": {
      "codemirror_mode": {
        "name": "ipython",
        "version": 3
      },
      "file_extension": ".py",
      "mimetype": "text/x-python",
      "name": "python",
      "nbconvert_exporter": "python",
      "pygments_lexer": "ipython3",
      "version": "3.7.10"
    },
    "colab": {
      "name": "Dropout test using fashion mnist dataset-full.ipynb의 사본",
      "provenance": [],
      "collapsed_sections": []
    },
    "accelerator": "TPU"
  },
  "cells": [
    {
      "cell_type": "code",
      "metadata": {
        "id": "yTDwLZkW7zlk"
      },
      "source": [
        "import numpy as np\n",
        "from tensorflow import keras\n",
        "from tensorflow.keras import layers\n",
        "from tensorflow.keras.utils import to_categorical\n",
        "import matplotlib.pyplot as plt\n",
        "%matplotlib inline"
      ],
      "execution_count": 1,
      "outputs": []
    },
    {
      "cell_type": "code",
      "metadata": {
        "colab": {
          "base_uri": "https://localhost:8080/"
        },
        "id": "1sHhzKsE7zlm",
        "outputId": "1bf977f5-1f06-40c1-cbda-2dc62681bb80"
      },
      "source": [
        "from tensorflow.keras.datasets import fashion_mnist\n",
        "(train_X,train_Y), (test_X,test_Y) = fashion_mnist.load_data()"
      ],
      "execution_count": 2,
      "outputs": [
        {
          "output_type": "stream",
          "text": [
            "Downloading data from https://storage.googleapis.com/tensorflow/tf-keras-datasets/train-labels-idx1-ubyte.gz\n",
            "32768/29515 [=================================] - 0s 0us/step\n",
            "Downloading data from https://storage.googleapis.com/tensorflow/tf-keras-datasets/train-images-idx3-ubyte.gz\n",
            "26427392/26421880 [==============================] - 0s 0us/step\n",
            "Downloading data from https://storage.googleapis.com/tensorflow/tf-keras-datasets/t10k-labels-idx1-ubyte.gz\n",
            "8192/5148 [===============================================] - 0s 0us/step\n",
            "Downloading data from https://storage.googleapis.com/tensorflow/tf-keras-datasets/t10k-images-idx3-ubyte.gz\n",
            "4423680/4422102 [==============================] - 0s 0us/step\n"
          ],
          "name": "stdout"
        }
      ]
    },
    {
      "cell_type": "code",
      "metadata": {
        "colab": {
          "base_uri": "https://localhost:8080/"
        },
        "id": "E3fVSoc87zln",
        "outputId": "5afa622d-f7f1-4751-bffd-aa00bbf654a3"
      },
      "source": [
        "print('Training data shape : ', train_X.shape, train_Y.shape)\n",
        "\n",
        "print('Testing data shape : ', test_X.shape, test_Y.shape)"
      ],
      "execution_count": 3,
      "outputs": [
        {
          "output_type": "stream",
          "text": [
            "Training data shape :  (60000, 28, 28) (60000,)\n",
            "Testing data shape :  (10000, 28, 28) (10000,)\n"
          ],
          "name": "stdout"
        }
      ]
    },
    {
      "cell_type": "code",
      "metadata": {
        "colab": {
          "base_uri": "https://localhost:8080/"
        },
        "id": "0Yjfo7hs7zlo",
        "outputId": "772f7958-684f-4061-e909-ce66fed8898e"
      },
      "source": [
        "# Find the unique numbers from the train labels\n",
        "classes = np.unique(train_Y)\n",
        "nClasses = len(classes)\n",
        "print('Total number of outputs : ', nClasses)\n",
        "print('Output classes : ', classes)"
      ],
      "execution_count": 4,
      "outputs": [
        {
          "output_type": "stream",
          "text": [
            "Total number of outputs :  10\n",
            "Output classes :  [0 1 2 3 4 5 6 7 8 9]\n"
          ],
          "name": "stdout"
        }
      ]
    },
    {
      "cell_type": "code",
      "metadata": {
        "colab": {
          "base_uri": "https://localhost:8080/",
          "height": 209
        },
        "id": "fL_PQ6X27zlo",
        "outputId": "17dfa276-bb7e-498c-c452-879c65edd5aa"
      },
      "source": [
        "plt.figure(figsize=[5,5])\n",
        "\n",
        "# Display the first image in training data\n",
        "plt.subplot(121)\n",
        "plt.imshow(train_X[0,:,:], cmap='gray')\n",
        "plt.title(\"Ground Truth : {}\".format(train_Y[0]))\n",
        "\n",
        "# Display the first image in testing data\n",
        "plt.subplot(122)\n",
        "plt.imshow(test_X[0,:,:], cmap='gray')\n",
        "plt.title(\"Ground Truth : {}\".format(test_Y[0]))"
      ],
      "execution_count": 5,
      "outputs": [
        {
          "output_type": "execute_result",
          "data": {
            "text/plain": [
              "Text(0.5, 1.0, 'Ground Truth : 9')"
            ]
          },
          "metadata": {
            "tags": []
          },
          "execution_count": 5
        },
        {
          "output_type": "display_data",
          "data": {
            "image/png": "[encoded data removed]",
            "text/plain": [
              "<Figure size 360x360 with 2 Axes>"
            ]
          },
          "metadata": {
            "tags": [],
            "needs_background": "light"
          }
        }
      ]
    },
    {
      "cell_type": "code",
      "metadata": {
        "colab": {
          "base_uri": "https://localhost:8080/"
        },
        "id": "p4GoiSCp7zlo",
        "outputId": "9896e096-4514-4f10-a6ec-def4356700a2"
      },
      "source": [
        "train_X = train_X.reshape(-1, 28,28, 1)\n",
        "test_X = test_X.reshape(-1, 28,28, 1)\n",
        "train_X.shape, test_X.shape"
      ],
      "execution_count": 6,
      "outputs": [
        {
          "output_type": "execute_result",
          "data": {
            "text/plain": [
              "((60000, 28, 28, 1), (10000, 28, 28, 1))"
            ]
          },
          "metadata": {
            "tags": []
          },
          "execution_count": 6
        }
      ]
    },
    {
      "cell_type": "code",
      "metadata": {
        "id": "m4mRc2Bw7zlp"
      },
      "source": [
        "train_X = train_X.astype('float32')\n",
        "test_X = test_X.astype('float32')\n",
        "train_X = train_X / 255.\n",
        "test_X = test_X / 255."
      ],
      "execution_count": 7,
      "outputs": []
    },
    {
      "cell_type": "code",
      "metadata": {
        "colab": {
          "base_uri": "https://localhost:8080/"
        },
        "id": "aikn9ldV7zlp",
        "outputId": "0da22a2e-dc79-4dd2-b2fb-2d94a2f55882"
      },
      "source": [
        "# Change the labels from categorical to one-hot encoding\n",
        "train_Y_one_hot = to_categorical(train_Y)\n",
        "test_Y_one_hot = to_categorical(test_Y)\n",
        "\n",
        "# Display the change for category label using one-hot encoding\n",
        "print('Original label:', train_Y[0])\n",
        "print('After conversion to one-hot:', train_Y_one_hot[0])"
      ],
      "execution_count": 8,
      "outputs": [
        {
          "output_type": "stream",
          "text": [
            "Original label: 9\n",
            "After conversion to one-hot: [0. 0. 0. 0. 0. 0. 0. 0. 0. 1.]\n"
          ],
          "name": "stdout"
        }
      ]
    },
    {
      "cell_type": "code",
      "metadata": {
        "id": "raoirUhl7zlq"
      },
      "source": [
        "from sklearn.model_selection import train_test_split\n",
        "train_X,valid_X,train_label,valid_label = train_test_split(train_X, train_Y_one_hot, test_size=0.2, random_state=13)"
      ],
      "execution_count": 9,
      "outputs": []
    },
    {
      "cell_type": "code",
      "metadata": {
        "colab": {
          "base_uri": "https://localhost:8080/"
        },
        "id": "Ww7EW2oI7zlq",
        "outputId": "182c3426-a5b5-4e86-976d-c0184bada476"
      },
      "source": [
        "train_X.shape,valid_X.shape,train_label.shape,valid_label.shape"
      ],
      "execution_count": 10,
      "outputs": [
        {
          "output_type": "execute_result",
          "data": {
            "text/plain": [
              "((48000, 28, 28, 1), (12000, 28, 28, 1), (48000, 10), (12000, 10))"
            ]
          },
          "metadata": {
            "tags": []
          },
          "execution_count": 10
        }
      ]
    },
    {
      "cell_type": "code",
      "metadata": {
        "colab": {
          "base_uri": "https://localhost:8080/",
          "height": 70
        },
        "id": "ArJMkgJK7zlr",
        "outputId": "fe116a9e-1b3a-4ae1-8f69-113979cf1b45"
      },
      "source": [
        "\"\"\"\n",
        "model = keras.Sequential(\n",
        "    [\n",
        "        keras.Input(shape=input_shape),\n",
        "        layers.Conv2D(32, kernel_size=(3, 3), activation=\"relu\"),\n",
        "        layers.MaxPooling2D(pool_size=(2, 2)),\n",
        "        layers.Conv2D(64, kernel_size=(3, 3), activation=\"relu\"),\n",
        "        layers.MaxPooling2D(pool_size=(2, 2)),\n",
        "        layers.Flatten(),\n",
        "        layers.Dropout(0.5),\n",
        "        layers.Dense(num_classes, activation=\"softmax\"),\n",
        "    ]\n",
        ")\n",
        "\"\"\""
      ],
      "execution_count": 11,
      "outputs": [
        {
          "output_type": "execute_result",
          "data": {
            "application/vnd.google.colaboratory.intrinsic+json": {
              "type": "string"
            },
            "text/plain": [
              "'\\nmodel = keras.Sequential(\\n    [\\n        keras.Input(shape=input_shape),\\n        layers.Conv2D(32, kernel_size=(3, 3), activation=\"relu\"),\\n        layers.MaxPooling2D(pool_size=(2, 2)),\\n        layers.Conv2D(64, kernel_size=(3, 3), activation=\"relu\"),\\n        layers.MaxPooling2D(pool_size=(2, 2)),\\n        layers.Flatten(),\\n        layers.Dropout(0.5),\\n        layers.Dense(num_classes, activation=\"softmax\"),\\n    ]\\n)\\n'"
            ]
          },
          "metadata": {
            "tags": []
          },
          "execution_count": 11
        }
      ]
    },
    {
      "cell_type": "code",
      "metadata": {
        "id": "NuZ2MGRy7zlr"
      },
      "source": [
        "from tensorflow.keras.models import Sequential #,Input, Model\n",
        "from tensorflow.keras.layers import Dense, Dropout, Flatten, Activation, Conv2D, MaxPooling2D \n",
        "from tensorflow.keras.layers import BatchNormalization\n",
        "#from tensorflow.keras.layers.advanced_activations import LeakyReLU"
      ],
      "execution_count": 12,
      "outputs": []
    },
    {
      "cell_type": "code",
      "metadata": {
        "id": "vmnDCYkz7zlr"
      },
      "source": [
        "batch_size = 64 #=64\n",
        "epochs = 13\n",
        "num_classes = 10"
      ],
      "execution_count": 13,
      "outputs": []
    },
    {
      "cell_type": "code",
      "metadata": {
        "id": "DgcvXL7K7zls"
      },
      "source": [
        "fashion_model = Sequential()\n",
        "fashion_model.add(Conv2D(32, kernel_size=(3, 3),activation='linear',input_shape=(28,28,1),padding='same'))\n",
        "#fashion_model.add(Conv2D(32, kernel_size=(3, 3),input_shape=(28,28,1),padding='same'))\n",
        "#fashion_model.add(LeakyReLU(alpha=0.1))\n",
        "fashion_model.add(Activation('relu'))\n",
        "fashion_model.add(MaxPooling2D((2, 2),padding='same'))\n",
        "fashion_model.add(Conv2D(64, (3, 3), activation='linear',padding='same'))\n",
        "#fashion_model.add(LeakyReLU(alpha=0.1))\n",
        "fashion_model.add(Activation('relu'))\n",
        "fashion_model.add(MaxPooling2D(pool_size=(2, 2),padding='same'))\n",
        "fashion_model.add(Conv2D(128, (3, 3), activation='linear',padding='same'))\n",
        "#fashion_model.add(LeakyReLU(alpha=0.1))\n",
        "fashion_model.add(Activation('relu'))\n",
        "fashion_model.add(MaxPooling2D(pool_size=(2, 2),padding='same'))\n",
        "fashion_model.add(Flatten())\n",
        "fashion_model.add(Dense(128, activation='linear'))\n",
        "#fashion_model.add(LeakyReLU(alpha=0.1))\n",
        "fashion_model.add(Activation('relu'))\n",
        "fashion_model.add(Dense(num_classes, activation='softmax'))"
      ],
      "execution_count": 14,
      "outputs": []
    },
    {
      "cell_type": "code",
      "metadata": {
        "id": "gl6vCa6E7zls"
      },
      "source": [
        "fashion_model.compile(loss=keras.losses.categorical_crossentropy, optimizer=keras.optimizers.Adam(),metrics=['accuracy'])"
      ],
      "execution_count": 15,
      "outputs": []
    },
    {
      "cell_type": "code",
      "metadata": {
        "colab": {
          "base_uri": "https://localhost:8080/"
        },
        "id": "bJ5i3HfI7zls",
        "outputId": "50436443-8205-403a-c248-9e43eb9fbbaf"
      },
      "source": [
        "fashion_model.summary()"
      ],
      "execution_count": 16,
      "outputs": [
        {
          "output_type": "stream",
          "text": [
            "Model: \"sequential\"\n",
            "_________________________________________________________________\n",
            "Layer (type)                 Output Shape              Param #   \n",
            "=================================================================\n",
            "conv2d (Conv2D)              (None, 28, 28, 32)        320       \n",
            "_________________________________________________________________\n",
            "activation (Activation)      (None, 28, 28, 32)        0         \n",
            "_________________________________________________________________\n",
            "max_pooling2d (MaxPooling2D) (None, 14, 14, 32)        0         \n",
            "_________________________________________________________________\n",
            "conv2d_1 (Conv2D)            (None, 14, 14, 64)        18496     \n",
            "_________________________________________________________________\n",
            "activation_1 (Activation)    (None, 14, 14, 64)        0         \n",
            "_________________________________________________________________\n",
            "max_pooling2d_1 (MaxPooling2 (None, 7, 7, 64)          0         \n",
            "_________________________________________________________________\n",
            "conv2d_2 (Conv2D)            (None, 7, 7, 128)         73856     \n",
            "_________________________________________________________________\n",
            "activation_2 (Activation)    (None, 7, 7, 128)         0         \n",
            "_________________________________________________________________\n",
            "max_pooling2d_2 (MaxPooling2 (None, 4, 4, 128)         0         \n",
            "_________________________________________________________________\n",
            "flatten (Flatten)            (None, 2048)              0         \n",
            "_________________________________________________________________\n",
            "dense (Dense)                (None, 128)               262272    \n",
            "_________________________________________________________________\n",
            "activation_3 (Activation)    (None, 128)               0         \n",
            "_________________________________________________________________\n",
            "dense_1 (Dense)              (None, 10)                1290      \n",
            "=================================================================\n",
            "Total params: 356,234\n",
            "Trainable params: 356,234\n",
            "Non-trainable params: 0\n",
            "_________________________________________________________________\n"
          ],
          "name": "stdout"
        }
      ]
    },
    {
      "cell_type": "code",
      "metadata": {
        "colab": {
          "base_uri": "https://localhost:8080/"
        },
        "id": "4oDWtO007zlt",
        "outputId": "79ea6fc7-5449-4920-bc8e-192cf4c9f932"
      },
      "source": [
        "fashion_train = fashion_model.fit(train_X, train_label, batch_size=batch_size,epochs=epochs,verbose=1,validation_data=(valid_X, valid_label))"
      ],
      "execution_count": 17,
      "outputs": [
        {
          "output_type": "stream",
          "text": [
            "Epoch 1/13\n",
            "750/750 [==============================] - 89s 117ms/step - loss: 0.6963 - accuracy: 0.7453 - val_loss: 0.3373 - val_accuracy: 0.8807\n",
            "Epoch 2/13\n",
            "750/750 [==============================] - 87s 116ms/step - loss: 0.3072 - accuracy: 0.8901 - val_loss: 0.2785 - val_accuracy: 0.8985\n",
            "Epoch 3/13\n",
            "750/750 [==============================] - 86s 115ms/step - loss: 0.2491 - accuracy: 0.9092 - val_loss: 0.2594 - val_accuracy: 0.9040\n",
            "Epoch 4/13\n",
            "750/750 [==============================] - 86s 115ms/step - loss: 0.2172 - accuracy: 0.9201 - val_loss: 0.2490 - val_accuracy: 0.9112\n",
            "Epoch 5/13\n",
            "750/750 [==============================] - 86s 115ms/step - loss: 0.1908 - accuracy: 0.9297 - val_loss: 0.2520 - val_accuracy: 0.9094\n",
            "Epoch 6/13\n",
            "750/750 [==============================] - 86s 114ms/step - loss: 0.1653 - accuracy: 0.9384 - val_loss: 0.2388 - val_accuracy: 0.9135\n",
            "Epoch 7/13\n",
            "750/750 [==============================] - 86s 114ms/step - loss: 0.1435 - accuracy: 0.9461 - val_loss: 0.2265 - val_accuracy: 0.9193\n",
            "Epoch 8/13\n",
            "750/750 [==============================] - 85s 114ms/step - loss: 0.1233 - accuracy: 0.9545 - val_loss: 0.2272 - val_accuracy: 0.9248\n",
            "Epoch 9/13\n",
            "750/750 [==============================] - 85s 114ms/step - loss: 0.1029 - accuracy: 0.9614 - val_loss: 0.2408 - val_accuracy: 0.9201\n",
            "Epoch 10/13\n",
            "750/750 [==============================] - 85s 114ms/step - loss: 0.0888 - accuracy: 0.9683 - val_loss: 0.2734 - val_accuracy: 0.9221\n",
            "Epoch 11/13\n",
            "750/750 [==============================] - 85s 113ms/step - loss: 0.0753 - accuracy: 0.9719 - val_loss: 0.2758 - val_accuracy: 0.9203\n",
            "Epoch 12/13\n",
            "750/750 [==============================] - 84s 112ms/step - loss: 0.0633 - accuracy: 0.9764 - val_loss: 0.3073 - val_accuracy: 0.9174\n",
            "Epoch 13/13\n",
            "750/750 [==============================] - 85s 113ms/step - loss: 0.0550 - accuracy: 0.9802 - val_loss: 0.3155 - val_accuracy: 0.9185\n"
          ],
          "name": "stdout"
        }
      ]
    },
    {
      "cell_type": "code",
      "metadata": {
        "colab": {
          "base_uri": "https://localhost:8080/"
        },
        "id": "jJYDMsOL7zlt",
        "outputId": "0a75614a-3467-4dd6-9086-878a65f507df"
      },
      "source": [
        "test_eval = fashion_model.evaluate(test_X, test_Y_one_hot, verbose=0)\n",
        "print('Test loss:', test_eval[0])\n",
        "print('Test accuracy:', test_eval[1])"
      ],
      "execution_count": 18,
      "outputs": [
        {
          "output_type": "stream",
          "text": [
            "Test loss: 0.32792967557907104\n",
            "Test accuracy: 0.9129999876022339\n"
          ],
          "name": "stdout"
        }
      ]
    },
    {
      "cell_type": "code",
      "metadata": {
        "colab": {
          "base_uri": "https://localhost:8080/",
          "height": 545
        },
        "id": "1Ljj-ZfX7zlt",
        "outputId": "063c3dc4-c09b-4301-f107-fef9aee41848"
      },
      "source": [
        "accuracy = fashion_train.history['accuracy']\n",
        "val_accuracy = fashion_train.history['val_accuracy']\n",
        "loss = fashion_train.history['loss']\n",
        "val_loss = fashion_train.history['val_loss']\n",
        "epochs = range(len(accuracy))\n",
        "plt.plot(epochs, accuracy, 'bo', label='Training accuracy')\n",
        "plt.plot(epochs, val_accuracy, 'b', label='Validation accuracy')\n",
        "plt.title('Training and validation accuracy')\n",
        "plt.legend()\n",
        "plt.figure()\n",
        "plt.plot(epochs, loss, 'bo', label='Training loss')\n",
        "plt.plot(epochs, val_loss, 'b', label='Validation loss')\n",
        "plt.title('Training and validation loss')\n",
        "plt.legend()\n",
        "plt.show()"
      ],
      "execution_count": 19,
      "outputs": [
        {
          "output_type": "display_data",
          "data": {
            "image/png": "[encoded data removed]",
            "text/plain": [
              "<Figure size 432x288 with 1 Axes>"
            ]
          },
          "metadata": {
            "tags": [],
            "needs_background": "light"
          }
        },
        {
          "output_type": "display_data",
          "data": {
            "image/png": "[encoded data removed]",
            "text/plain": [
              "<Figure size 432x288 with 1 Axes>"
            ]
          },
          "metadata": {
            "tags": [],
            "needs_background": "light"
          }
        }
      ]
    },
    {
      "cell_type": "code",
      "metadata": {
        "colab": {
          "base_uri": "https://localhost:8080/"
        },
        "id": "hj1uvOYP7zlu",
        "outputId": "0e63237c-3bb6-46a1-db4d-9640443d75a3"
      },
      "source": [
        "fashion_model.save(\"fashion_model_Nodropout.py\")"
      ],
      "execution_count": 20,
      "outputs": [
        {
          "output_type": "stream",
          "text": [
            "INFO:tensorflow:Assets written to: fashion_model_Nodropout.py/assets\n"
          ],
          "name": "stdout"
        }
      ]
    },
    {
      "cell_type": "code",
      "metadata": {
        "id": "mWuPpD-57zlu"
      },
      "source": [
        "batch_size = 64\n",
        "epochs = 13\n",
        "num_classes = 10"
      ],
      "execution_count": 21,
      "outputs": []
    },
    {
      "cell_type": "code",
      "metadata": {
        "id": "wosuKdbG7zlu"
      },
      "source": [
        "fashion_model2 = Sequential()\n",
        "fashion_model2.add(Conv2D(32, kernel_size=(3, 3),activation='linear',padding='same',input_shape=(28,28,1)))\n",
        "#fashion_model2.add(LeakyReLU(alpha=0.1))\n",
        "fashion_model.add(Activation('relu'))\n",
        "fashion_model2.add(MaxPooling2D((2, 2),padding='same'))\n",
        "fashion_model2.add(Dropout(0.25))\n",
        "fashion_model2.add(Conv2D(64, (3, 3), activation='linear',padding='same'))\n",
        "#fashion_model2.add(LeakyReLU(alpha=0.1))\n",
        "fashion_model.add(Activation('relu'))\n",
        "fashion_model2.add(MaxPooling2D(pool_size=(2, 2),padding='same'))\n",
        "fashion_model2.add(Dropout(0.25))\n",
        "fashion_model2.add(Conv2D(128, (3, 3), activation='linear',padding='same'))\n",
        "#fashion_model2.add(LeakyReLU(alpha=0.1))\n",
        "fashion_model.add(Activation('relu'))\n",
        "fashion_model2.add(MaxPooling2D(pool_size=(2, 2),padding='same'))\n",
        "fashion_model2.add(Dropout(0.4))\n",
        "fashion_model2.add(Flatten())\n",
        "fashion_model2.add(Dense(128, activation='linear'))\n",
        "#fashion_model2.add(LeakyReLU(alpha=0.1))\n",
        "fashion_model.add(Activation('relu'))\n",
        "fashion_model2.add(Dropout(0.3))\n",
        "fashion_model2.add(Dense(num_classes, activation='softmax'))"
      ],
      "execution_count": 22,
      "outputs": []
    },
    {
      "cell_type": "code",
      "metadata": {
        "colab": {
          "base_uri": "https://localhost:8080/"
        },
        "id": "2kQ6TBQf7zlv",
        "outputId": "f408d896-d114-46fa-a7de-8fefc0ba6e01"
      },
      "source": [
        "fashion_model2.summary()"
      ],
      "execution_count": 23,
      "outputs": [
        {
          "output_type": "stream",
          "text": [
            "Model: \"sequential_1\"\n",
            "_________________________________________________________________\n",
            "Layer (type)                 Output Shape              Param #   \n",
            "=================================================================\n",
            "conv2d_3 (Conv2D)            (None, 28, 28, 32)        320       \n",
            "_________________________________________________________________\n",
            "max_pooling2d_3 (MaxPooling2 (None, 14, 14, 32)        0         \n",
            "_________________________________________________________________\n",
            "dropout (Dropout)            (None, 14, 14, 32)        0         \n",
            "_________________________________________________________________\n",
            "conv2d_4 (Conv2D)            (None, 14, 14, 64)        18496     \n",
            "_________________________________________________________________\n",
            "max_pooling2d_4 (MaxPooling2 (None, 7, 7, 64)          0         \n",
            "_________________________________________________________________\n",
            "dropout_1 (Dropout)          (None, 7, 7, 64)          0         \n",
            "_________________________________________________________________\n",
            "conv2d_5 (Conv2D)            (None, 7, 7, 128)         73856     \n",
            "_________________________________________________________________\n",
            "max_pooling2d_5 (MaxPooling2 (None, 4, 4, 128)         0         \n",
            "_________________________________________________________________\n",
            "dropout_2 (Dropout)          (None, 4, 4, 128)         0         \n",
            "_________________________________________________________________\n",
            "flatten_1 (Flatten)          (None, 2048)              0         \n",
            "_________________________________________________________________\n",
            "dense_2 (Dense)              (None, 128)               262272    \n",
            "_________________________________________________________________\n",
            "dropout_3 (Dropout)          (None, 128)               0         \n",
            "_________________________________________________________________\n",
            "dense_3 (Dense)              (None, 10)                1290      \n",
            "=================================================================\n",
            "Total params: 356,234\n",
            "Trainable params: 356,234\n",
            "Non-trainable params: 0\n",
            "_________________________________________________________________\n"
          ],
          "name": "stdout"
        }
      ]
    },
    {
      "cell_type": "code",
      "metadata": {
        "id": "Z0I53-Ar7zlv"
      },
      "source": [
        "fashion_model2.compile(loss=keras.losses.categorical_crossentropy, optimizer=keras.optimizers.Adam(),metrics=['accuracy'])"
      ],
      "execution_count": 24,
      "outputs": []
    },
    {
      "cell_type": "code",
      "metadata": {
        "colab": {
          "base_uri": "https://localhost:8080/"
        },
        "id": "qISWI2S_7zlv",
        "outputId": "42dd2ed4-c6fb-4fd2-bac9-94b5c118e806"
      },
      "source": [
        "fashion_train_dropout = fashion_model2.fit(train_X, train_label, batch_size=batch_size,epochs=epochs,verbose=1,validation_data=(valid_X, valid_label))"
      ],
      "execution_count": 25,
      "outputs": [
        {
          "output_type": "stream",
          "text": [
            "Epoch 1/13\n",
            "750/750 [==============================] - 89s 118ms/step - loss: 0.7609 - accuracy: 0.7224 - val_loss: 0.3746 - val_accuracy: 0.8695\n",
            "Epoch 2/13\n",
            "750/750 [==============================] - 88s 117ms/step - loss: 0.4052 - accuracy: 0.8579 - val_loss: 0.3326 - val_accuracy: 0.8815\n",
            "Epoch 3/13\n",
            "750/750 [==============================] - 89s 119ms/step - loss: 0.3451 - accuracy: 0.8752 - val_loss: 0.3071 - val_accuracy: 0.8924\n",
            "Epoch 4/13\n",
            "750/750 [==============================] - 88s 117ms/step - loss: 0.3189 - accuracy: 0.8868 - val_loss: 0.2843 - val_accuracy: 0.8986\n",
            "Epoch 5/13\n",
            "750/750 [==============================] - 88s 117ms/step - loss: 0.3127 - accuracy: 0.8877 - val_loss: 0.2774 - val_accuracy: 0.9016\n",
            "Epoch 6/13\n",
            "750/750 [==============================] - 88s 117ms/step - loss: 0.2982 - accuracy: 0.8887 - val_loss: 0.2832 - val_accuracy: 0.8986\n",
            "Epoch 7/13\n",
            "750/750 [==============================] - 88s 118ms/step - loss: 0.2862 - accuracy: 0.8959 - val_loss: 0.2612 - val_accuracy: 0.9048\n",
            "Epoch 8/13\n",
            "750/750 [==============================] - 88s 118ms/step - loss: 0.2875 - accuracy: 0.8952 - val_loss: 0.2522 - val_accuracy: 0.9083\n",
            "Epoch 9/13\n",
            "750/750 [==============================] - 88s 118ms/step - loss: 0.2754 - accuracy: 0.9011 - val_loss: 0.2759 - val_accuracy: 0.9014\n",
            "Epoch 10/13\n",
            "750/750 [==============================] - 88s 117ms/step - loss: 0.2741 - accuracy: 0.9016 - val_loss: 0.2733 - val_accuracy: 0.9024\n",
            "Epoch 11/13\n",
            "750/750 [==============================] - 88s 117ms/step - loss: 0.2646 - accuracy: 0.9039 - val_loss: 0.2625 - val_accuracy: 0.9062\n",
            "Epoch 12/13\n",
            "750/750 [==============================] - 88s 117ms/step - loss: 0.2582 - accuracy: 0.9069 - val_loss: 0.2770 - val_accuracy: 0.8999\n",
            "Epoch 13/13\n",
            "750/750 [==============================] - 88s 117ms/step - loss: 0.2598 - accuracy: 0.9056 - val_loss: 0.2591 - val_accuracy: 0.9133\n"
          ],
          "name": "stdout"
        }
      ]
    },
    {
      "cell_type": "code",
      "metadata": {
        "colab": {
          "base_uri": "https://localhost:8080/"
        },
        "id": "KQBmrEdX7zlv",
        "outputId": "9b7c10d4-ecfd-43c5-f12f-24892bf00a4a"
      },
      "source": [
        "fashion_model2.save(\"fashion_model_dropout.py\")"
      ],
      "execution_count": 26,
      "outputs": [
        {
          "output_type": "stream",
          "text": [
            "INFO:tensorflow:Assets written to: fashion_model_dropout.py/assets\n"
          ],
          "name": "stdout"
        }
      ]
    },
    {
      "cell_type": "code",
      "metadata": {
        "colab": {
          "base_uri": "https://localhost:8080/"
        },
        "id": "fzQiwTRZ7zlw",
        "outputId": "13b8115f-1f9d-404b-de3c-91786d12ae65"
      },
      "source": [
        "test_eval = fashion_model2.evaluate(test_X, test_Y_one_hot, verbose=1)\n",
        "print('Test loss:', test_eval[0])\n",
        "print('Test accuracy:', test_eval[1])"
      ],
      "execution_count": 27,
      "outputs": [
        {
          "output_type": "stream",
          "text": [
            "313/313 [==============================] - 5s 17ms/step - loss: 0.2698 - accuracy: 0.9093\n",
            "Test loss: 0.2698086202144623\n",
            "Test accuracy: 0.9093000292778015\n"
          ],
          "name": "stdout"
        }
      ]
    },
    {
      "cell_type": "code",
      "metadata": {
        "colab": {
          "base_uri": "https://localhost:8080/",
          "height": 545
        },
        "id": "9fVi97Yp7zlw",
        "outputId": "cbc1b4a6-ec6d-422d-9072-60d3b56332a0"
      },
      "source": [
        "accuracy = fashion_train_dropout.history['accuracy']\n",
        "val_accuracy = fashion_train_dropout.history['val_accuracy']\n",
        "loss = fashion_train_dropout.history['loss']\n",
        "val_loss = fashion_train_dropout.history['val_loss']\n",
        "epochs = range(len(accuracy))\n",
        "plt.plot(epochs, accuracy, 'bo', label='Training accuracy')\n",
        "plt.plot(epochs, val_accuracy, 'b', label='Validation accuracy')\n",
        "plt.title('Training and validation accuracy')\n",
        "plt.legend()\n",
        "plt.figure()\n",
        "plt.plot(epochs, loss, 'bo', label='Training loss')\n",
        "plt.plot(epochs, val_loss, 'b', label='Validation loss')\n",
        "plt.title('Training and validation loss')\n",
        "plt.legend()\n",
        "plt.show()"
      ],
      "execution_count": 28,
      "outputs": [
        {
          "output_type": "display_data",
          "data": {
            "image/png": "[encoded data removed]",
            "text/plain": [
              "<Figure size 432x288 with 1 Axes>"
            ]
          },
          "metadata": {
            "tags": [],
            "needs_background": "light"
          }
        },
        {
          "output_type": "display_data",
          "data": {
            "image/png": "[encoded data removed]",
            "text/plain": [
              "<Figure size 432x288 with 1 Axes>"
            ]
          },
          "metadata": {
            "tags": [],
            "needs_background": "light"
          }
        }
      ]
    },
    {
      "cell_type": "code",
      "metadata": {
        "colab": {
          "base_uri": "https://localhost:8080/"
        },
        "id": "BWtN6Gud7zlw",
        "outputId": "9300dfb0-ac96-44c5-8e96-8f50679f39a6"
      },
      "source": [
        "predicted_classes = fashion_model2.predict(test_X)\n",
        "predicted_classes = np.argmax(np.round(predicted_classes),axis=1)\n",
        "predicted_classes.shape, test_Y.shape"
      ],
      "execution_count": 29,
      "outputs": [
        {
          "output_type": "execute_result",
          "data": {
            "text/plain": [
              "((10000,), (10000,))"
            ]
          },
          "metadata": {
            "tags": []
          },
          "execution_count": 29
        }
      ]
    },
    {
      "cell_type": "code",
      "metadata": {
        "colab": {
          "base_uri": "https://localhost:8080/",
          "height": 314
        },
        "id": "aq7MogwO7zlw",
        "outputId": "f21db881-6fdd-4292-b698-9d455dc8d99e"
      },
      "source": [
        "correct = np.where(predicted_classes==test_Y)[0]\n",
        "print (\"Found %d correct labels\" % len(correct))\n",
        "for i, correct in enumerate(correct[:9]):\n",
        "    plt.subplot(3,3,i+1)\n",
        "    plt.imshow(test_X[correct].reshape(28,28), cmap='gray', interpolation='none')\n",
        "    plt.title(\"Predicted {}, Class {}\".format(predicted_classes[correct], test_Y[correct]))\n",
        "    plt.tight_layout()"
      ],
      "execution_count": 30,
      "outputs": [
        {
          "output_type": "stream",
          "text": [
            "Found 9045 correct labels\n"
          ],
          "name": "stdout"
        },
        {
          "output_type": "display_data",
          "data": {
            "image/png": "[encoded data removed]",
            "text/plain": [
              "<Figure size 432x288 with 9 Axes>"
            ]
          },
          "metadata": {
            "tags": [],
            "needs_background": "light"
          }
        }
      ]
    },
    {
      "cell_type": "code",
      "metadata": {
        "colab": {
          "base_uri": "https://localhost:8080/",
          "height": 314
        },
        "id": "59fBmiqV7zlx",
        "outputId": "7291a3b4-98ce-43bc-8afd-8d363c19e44e"
      },
      "source": [
        "incorrect = np.where(predicted_classes!=test_Y)[0]\n",
        "print(\"Found %d incorrect labels\" % len(incorrect))\n",
        "for i, incorrect in enumerate(incorrect[:9]):\n",
        "    plt.subplot(3,3,i+1)\n",
        "    plt.imshow(test_X[incorrect].reshape(28,28), cmap='gray', interpolation='none')\n",
        "    plt.title(\"Predicted {}, Class {}\".format(predicted_classes[incorrect], test_Y[incorrect]))\n",
        "    plt.tight_layout()"
      ],
      "execution_count": 31,
      "outputs": [
        {
          "output_type": "stream",
          "text": [
            "Found 955 incorrect labels\n"
          ],
          "name": "stdout"
        },
        {
          "output_type": "display_data",
          "data": {
            "image/png": "[encoded data removed]",
            "text/plain": [
              "<Figure size 432x288 with 9 Axes>"
            ]
          },
          "metadata": {
            "tags": [],
            "needs_background": "light"
          }
        }
      ]
    },
    {
      "cell_type": "code",
      "metadata": {
        "colab": {
          "base_uri": "https://localhost:8080/"
        },
        "id": "rtJ6pcKp7zlx",
        "outputId": "a65625dc-1b32-4ef1-f1e0-6d8522c53414"
      },
      "source": [
        "from sklearn.metrics import classification_report\n",
        "target_names = [\"Class {}\".format(i) for i in range(num_classes)]\n",
        "print(classification_report(test_Y, predicted_classes, target_names=target_names))"
      ],
      "execution_count": 32,
      "outputs": [
        {
          "output_type": "stream",
          "text": [
            "              precision    recall  f1-score   support\n",
            "\n",
            "     Class 0       0.75      0.89      0.82      1000\n",
            "     Class 1       1.00      0.97      0.98      1000\n",
            "     Class 2       0.89      0.80      0.84      1000\n",
            "     Class 3       0.87      0.94      0.91      1000\n",
            "     Class 4       0.86      0.85      0.85      1000\n",
            "     Class 5       0.99      0.98      0.98      1000\n",
            "     Class 6       0.78      0.70      0.74      1000\n",
            "     Class 7       0.95      0.97      0.96      1000\n",
            "     Class 8       0.99      0.97      0.98      1000\n",
            "     Class 9       0.97      0.97      0.97      1000\n",
            "\n",
            "    accuracy                           0.90     10000\n",
            "   macro avg       0.91      0.90      0.90     10000\n",
            "weighted avg       0.91      0.90      0.90     10000\n",
            "\n"
          ],
          "name": "stdout"
        }
      ]
    }
  ]
}