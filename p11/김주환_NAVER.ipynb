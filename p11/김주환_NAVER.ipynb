{
 "cells": [
  {
   "cell_type": "code",
   "execution_count": 2,
   "metadata": {
    "colab": {
     "base_uri": "https://localhost:8080/"
    },
    "executionInfo": {
     "elapsed": 13294,
     "status": "ok",
     "timestamp": 1620464235433,
     "user": {
      "displayName": "Daesung Chung",
      "photoUrl": "",
      "userId": "04591858293269658552"
     },
     "user_tz": -540
    },
    "id": "6wwcOsM_65Fy",
    "outputId": "e1df5d15-9730-4c36-e616-4a547125c5c2"
   },
   "outputs": [
    {
     "name": "stdout",
     "output_type": "stream",
     "text": [
      "Collecting utils\n",
      "  Downloading https://files.pythonhosted.org/packages/55/e6/c2d2b2703e7debc8b501caae0e6f7ead148fd0faa3c8131292a599930029/utils-1.0.1-py2.py3-none-any.whl\n",
      "Installing collected packages: utils\n",
      "Successfully installed utils-1.0.1\n",
      "Collecting paramiko\n",
      "\u001b[?25l  Downloading https://files.pythonhosted.org/packages/95/19/124e9287b43e6ff3ebb9cdea3e5e8e88475a873c05ccdf8b7e20d2c4201e/paramiko-2.7.2-py2.py3-none-any.whl (206kB)\n",
      "\u001b[K     |████████████████████████████████| 215kB 8.5MB/s \n",
      "\u001b[?25hCollecting bcrypt>=3.1.3\n",
      "\u001b[?25l  Downloading https://files.pythonhosted.org/packages/26/70/6d218afbe4c73538053c1016dd631e8f25fffc10cd01f5c272d7acf3c03d/bcrypt-3.2.0-cp36-abi3-manylinux2010_x86_64.whl (63kB)\n",
      "\u001b[K     |████████████████████████████████| 71kB 5.7MB/s \n",
      "\u001b[?25hCollecting cryptography>=2.5\n",
      "\u001b[?25l  Downloading https://files.pythonhosted.org/packages/b2/26/7af637e6a7e87258b963f1731c5982fb31cd507f0d90d91836e446955d02/cryptography-3.4.7-cp36-abi3-manylinux2014_x86_64.whl (3.2MB)\n",
      "\u001b[K     |████████████████████████████████| 3.2MB 13.2MB/s \n",
      "\u001b[?25hCollecting pynacl>=1.0.1\n",
      "\u001b[?25l  Downloading https://files.pythonhosted.org/packages/9d/57/2f5e6226a674b2bcb6db531e8b383079b678df5b10cdaa610d6cf20d77ba/PyNaCl-1.4.0-cp35-abi3-manylinux1_x86_64.whl (961kB)\n",
      "\u001b[K     |████████████████████████████████| 962kB 36.6MB/s \n",
      "\u001b[?25hRequirement already satisfied: six>=1.4.1 in /usr/local/lib/python3.7/dist-packages (from bcrypt>=3.1.3->paramiko) (1.15.0)\n",
      "Requirement already satisfied: cffi>=1.1 in /usr/local/lib/python3.7/dist-packages (from bcrypt>=3.1.3->paramiko) (1.14.5)\n",
      "Requirement already satisfied: pycparser in /usr/local/lib/python3.7/dist-packages (from cffi>=1.1->bcrypt>=3.1.3->paramiko) (2.20)\n",
      "Installing collected packages: bcrypt, cryptography, pynacl, paramiko\n",
      "Successfully installed bcrypt-3.2.0 cryptography-3.4.7 paramiko-2.7.2 pynacl-1.4.0\n",
      "Requirement already satisfied: nltk in /usr/local/lib/python3.7/dist-packages (3.2.5)\n",
      "Requirement already satisfied: six in /usr/local/lib/python3.7/dist-packages (from nltk) (1.15.0)\n"
     ]
    }
   ],
   "source": [
    "\n",
    "! pip install utils\n",
    "! pip install paramiko\n",
    "! pip install nltk"
   ]
  },
  {
   "cell_type": "code",
   "execution_count": 3,
   "metadata": {
    "colab": {
     "base_uri": "https://localhost:8080/"
    },
    "executionInfo": {
     "elapsed": 19125,
     "status": "ok",
     "timestamp": 1620464241269,
     "user": {
      "displayName": "Daesung Chung",
      "photoUrl": "",
      "userId": "04591858293269658552"
     },
     "user_tz": -540
    },
    "id": "9IoLpgnc65F6",
    "outputId": "29680719-4116-4a10-a630-d7ff60642310"
   },
   "outputs": [
    {
     "name": "stdout",
     "output_type": "stream",
     "text": [
      "Collecting konlpy\n",
      "\u001b[?25l  Downloading https://files.pythonhosted.org/packages/85/0e/f385566fec837c0b83f216b2da65db9997b35dd675e107752005b7d392b1/konlpy-0.5.2-py2.py3-none-any.whl (19.4MB)\n",
      "\u001b[K     |████████████████████████████████| 19.4MB 1.3MB/s \n",
      "\u001b[?25hRequirement already satisfied: tweepy>=3.7.0 in /usr/local/lib/python3.7/dist-packages (from konlpy) (3.10.0)\n",
      "Requirement already satisfied: numpy>=1.6 in /usr/local/lib/python3.7/dist-packages (from konlpy) (1.19.5)\n",
      "Collecting colorama\n",
      "  Downloading https://files.pythonhosted.org/packages/44/98/5b86278fbbf250d239ae0ecb724f8572af1c91f4a11edf4d36a206189440/colorama-0.4.4-py2.py3-none-any.whl\n",
      "Requirement already satisfied: lxml>=4.1.0 in /usr/local/lib/python3.7/dist-packages (from konlpy) (4.2.6)\n",
      "Collecting beautifulsoup4==4.6.0\n",
      "\u001b[?25l  Downloading https://files.pythonhosted.org/packages/9e/d4/10f46e5cfac773e22707237bfcd51bbffeaf0a576b0a847ec7ab15bd7ace/beautifulsoup4-4.6.0-py3-none-any.whl (86kB)\n",
      "\u001b[K     |████████████████████████████████| 92kB 8.3MB/s \n",
      "\u001b[?25hCollecting JPype1>=0.7.0\n",
      "\u001b[?25l  Downloading https://files.pythonhosted.org/packages/cd/a5/9781e2ef4ca92d09912c4794642c1653aea7607f473e156cf4d423a881a1/JPype1-1.2.1-cp37-cp37m-manylinux2010_x86_64.whl (457kB)\n",
      "\u001b[K     |████████████████████████████████| 460kB 42.2MB/s \n",
      "\u001b[?25hRequirement already satisfied: six>=1.10.0 in /usr/local/lib/python3.7/dist-packages (from tweepy>=3.7.0->konlpy) (1.15.0)\n",
      "Requirement already satisfied: requests[socks]>=2.11.1 in /usr/local/lib/python3.7/dist-packages (from tweepy>=3.7.0->konlpy) (2.23.0)\n",
      "Requirement already satisfied: requests-oauthlib>=0.7.0 in /usr/local/lib/python3.7/dist-packages (from tweepy>=3.7.0->konlpy) (1.3.0)\n",
      "Requirement already satisfied: typing-extensions; python_version < \"3.8\" in /usr/local/lib/python3.7/dist-packages (from JPype1>=0.7.0->konlpy) (3.7.4.3)\n",
      "Requirement already satisfied: chardet<4,>=3.0.2 in /usr/local/lib/python3.7/dist-packages (from requests[socks]>=2.11.1->tweepy>=3.7.0->konlpy) (3.0.4)\n",
      "Requirement already satisfied: certifi>=2017.4.17 in /usr/local/lib/python3.7/dist-packages (from requests[socks]>=2.11.1->tweepy>=3.7.0->konlpy) (2020.12.5)\n",
      "Requirement already satisfied: idna<3,>=2.5 in /usr/local/lib/python3.7/dist-packages (from requests[socks]>=2.11.1->tweepy>=3.7.0->konlpy) (2.10)\n",
      "Requirement already satisfied: urllib3!=1.25.0,!=1.25.1,<1.26,>=1.21.1 in /usr/local/lib/python3.7/dist-packages (from requests[socks]>=2.11.1->tweepy>=3.7.0->konlpy) (1.24.3)\n",
      "Requirement already satisfied: PySocks!=1.5.7,>=1.5.6; extra == \"socks\" in /usr/local/lib/python3.7/dist-packages (from requests[socks]>=2.11.1->tweepy>=3.7.0->konlpy) (1.7.1)\n",
      "Requirement already satisfied: oauthlib>=3.0.0 in /usr/local/lib/python3.7/dist-packages (from requests-oauthlib>=0.7.0->tweepy>=3.7.0->konlpy) (3.1.0)\n",
      "Installing collected packages: colorama, beautifulsoup4, JPype1, konlpy\n",
      "  Found existing installation: beautifulsoup4 4.6.3\n",
      "    Uninstalling beautifulsoup4-4.6.3:\n",
      "      Successfully uninstalled beautifulsoup4-4.6.3\n",
      "Successfully installed JPype1-1.2.1 beautifulsoup4-4.6.0 colorama-0.4.4 konlpy-0.5.2\n"
     ]
    }
   ],
   "source": [
    "! pip  install konlpy"
   ]
  },
  {
   "cell_type": "code",
   "execution_count": 4,
   "metadata": {
    "colab": {
     "base_uri": "https://localhost:8080/"
    },
    "executionInfo": {
     "elapsed": 21888,
     "status": "ok",
     "timestamp": 1620464244036,
     "user": {
      "displayName": "Daesung Chung",
      "photoUrl": "",
      "userId": "04591858293269658552"
     },
     "user_tz": -540
    },
    "id": "m_6LIO0565F7",
    "outputId": "7d729518-de64-467c-c144-a8bf70c85214"
   },
   "outputs": [
    {
     "name": "stdout",
     "output_type": "stream",
     "text": [
      "Requirement already satisfied: gensim in /usr/local/lib/python3.7/dist-packages (3.6.0)\n",
      "Requirement already satisfied: numpy>=1.11.3 in /usr/local/lib/python3.7/dist-packages (from gensim) (1.19.5)\n",
      "Requirement already satisfied: smart-open>=1.2.1 in /usr/local/lib/python3.7/dist-packages (from gensim) (5.0.0)\n",
      "Requirement already satisfied: six>=1.5.0 in /usr/local/lib/python3.7/dist-packages (from gensim) (1.15.0)\n",
      "Requirement already satisfied: scipy>=0.18.1 in /usr/local/lib/python3.7/dist-packages (from gensim) (1.4.1)\n"
     ]
    }
   ],
   "source": [
    "! pip install gensim"
   ]
  },
  {
   "cell_type": "code",
   "execution_count": 5,
   "metadata": {
    "colab": {
     "base_uri": "https://localhost:8080/"
    },
    "executionInfo": {
     "elapsed": 25533,
     "status": "ok",
     "timestamp": 1620464247685,
     "user": {
      "displayName": "Daesung Chung",
      "photoUrl": "",
      "userId": "04591858293269658552"
     },
     "user_tz": -540
    },
    "id": "K_owrp0G7k0X",
    "outputId": "088d1cac-0dd9-4139-e9b3-99980c49d9f0"
   },
   "outputs": [
    {
     "name": "stdout",
     "output_type": "stream",
     "text": [
      "--2021-05-08 08:57:26--  https://docs.google.com/uc?export=download&confirm=&id=1pB98oL46qBz_Y33qsXfQ94YjVe_YRWfU\n",
      "Resolving docs.google.com (docs.google.com)... 142.250.101.101, 142.250.101.113, 142.250.101.139, ...\n",
      "Connecting to docs.google.com (docs.google.com)|142.250.101.101|:443... connected.\n",
      "HTTP request sent, awaiting response... 302 Moved Temporarily\n",
      "Location: https://doc-0s-8c-docs.googleusercontent.com/docs/securesc/p6skfr6unpkleiidds41ppun8n8m3uki/8a4tc1unqqs09t9sjgbketdm3jgum91i/1620464175000/04591858293269658552/00097718405532448023Z/1pB98oL46qBz_Y33qsXfQ94YjVe_YRWfU?e=download [following]\n",
      "--2021-05-08 08:57:27--  https://doc-0s-8c-docs.googleusercontent.com/docs/securesc/p6skfr6unpkleiidds41ppun8n8m3uki/8a4tc1unqqs09t9sjgbketdm3jgum91i/1620464175000/04591858293269658552/00097718405532448023Z/1pB98oL46qBz_Y33qsXfQ94YjVe_YRWfU?e=download\n",
      "Resolving doc-0s-8c-docs.googleusercontent.com (doc-0s-8c-docs.googleusercontent.com)... 142.250.101.132, 2607:f8b0:4023:c06::84\n",
      "Connecting to doc-0s-8c-docs.googleusercontent.com (doc-0s-8c-docs.googleusercontent.com)|142.250.101.132|:443... connected.\n",
      "HTTP request sent, awaiting response... 302 Found\n",
      "Location: https://docs.google.com/nonceSigner?nonce=pm59us9og0hv2&continue=https://doc-0s-8c-docs.googleusercontent.com/docs/securesc/p6skfr6unpkleiidds41ppun8n8m3uki/8a4tc1unqqs09t9sjgbketdm3jgum91i/1620464175000/04591858293269658552/00097718405532448023Z/1pB98oL46qBz_Y33qsXfQ94YjVe_YRWfU?e%3Ddownload&hash=hqukhdhp2orb8o1q15jk182scgl3kpqc [following]\n",
      "--2021-05-08 08:57:27--  https://docs.google.com/nonceSigner?nonce=pm59us9og0hv2&continue=https://doc-0s-8c-docs.googleusercontent.com/docs/securesc/p6skfr6unpkleiidds41ppun8n8m3uki/8a4tc1unqqs09t9sjgbketdm3jgum91i/1620464175000/04591858293269658552/00097718405532448023Z/1pB98oL46qBz_Y33qsXfQ94YjVe_YRWfU?e%3Ddownload&hash=hqukhdhp2orb8o1q15jk182scgl3kpqc\n",
      "Connecting to docs.google.com (docs.google.com)|142.250.101.101|:443... connected.\n",
      "HTTP request sent, awaiting response... 302 Found\n",
      "Location: https://doc-0s-8c-docs.googleusercontent.com/docs/securesc/p6skfr6unpkleiidds41ppun8n8m3uki/8a4tc1unqqs09t9sjgbketdm3jgum91i/1620464175000/04591858293269658552/00097718405532448023Z/1pB98oL46qBz_Y33qsXfQ94YjVe_YRWfU?e=download&nonce=pm59us9og0hv2&user=00097718405532448023Z&hash=vi26ecionfj82cp054obq13tqvfjupc5 [following]\n",
      "--2021-05-08 08:57:27--  https://doc-0s-8c-docs.googleusercontent.com/docs/securesc/p6skfr6unpkleiidds41ppun8n8m3uki/8a4tc1unqqs09t9sjgbketdm3jgum91i/1620464175000/04591858293269658552/00097718405532448023Z/1pB98oL46qBz_Y33qsXfQ94YjVe_YRWfU?e=download&nonce=pm59us9og0hv2&user=00097718405532448023Z&hash=vi26ecionfj82cp054obq13tqvfjupc5\n",
      "Connecting to doc-0s-8c-docs.googleusercontent.com (doc-0s-8c-docs.googleusercontent.com)|142.250.101.132|:443... connected.\n",
      "HTTP request sent, awaiting response... 200 OK\n",
      "Length: unspecified [text/plain]\n",
      "Saving to: ‘ratings_train.txt’\n",
      "\n",
      "ratings_train.txt       [  <=>               ]  13.95M  49.4MB/s    in 0.3s    \n",
      "\n",
      "2021-05-08 08:57:27 (49.4 MB/s) - ‘ratings_train.txt’ saved [14628807]\n",
      "\n"
     ]
    }
   ],
   "source": [
    "! wget --load-cookies /tmp/cookies.txt \"https://docs.google.com/uc?export=download&confirm=$(wget --quiet --save-cookies /tmp/cookies.txt --keep-session-cookies --no-check-certificate 'https://docs.google.com/uc?export=download&id=1pB98oL46qBz_Y33qsXfQ94YjVe_YRWfU' -O- | sed -rn 's/.*confirm=([0-9A-Za-z_]+).*/\\1\\n/p')&id=1pB98oL46qBz_Y33qsXfQ94YjVe_YRWfU\" -O ratings_train.txt && rm -rf /tmp/cookies.txt\n",
    "#https://drive.google.com/file/d/1pB98oL46qBz_Y33qsXfQ94YjVe_YRWfU/view?usp=sharing"
   ]
  },
  {
   "cell_type": "code",
   "execution_count": 6,
   "metadata": {
    "colab": {
     "base_uri": "https://localhost:8080/"
    },
    "executionInfo": {
     "elapsed": 683592,
     "status": "ok",
     "timestamp": 1620464905748,
     "user": {
      "displayName": "Daesung Chung",
      "photoUrl": "",
      "userId": "04591858293269658552"
     },
     "user_tz": -540
    },
    "id": "NX1iG1Th65F7",
    "outputId": "024ed0f3-4941-4f8f-ef76-39837c5d8c01"
   },
   "outputs": [
    {
     "name": "stdout",
     "output_type": "stream",
     "text": [
      "Okt done\n",
      "형태소 분석 시작\n",
      "형태소 분석 완료\n",
      "519.887069940567  초 결렸습니다\n",
      "트레이닝 시작\n",
      "Word2Vec 모델링 완료\n",
      "134.34729743003845  초 결렸습니다\n"
     ]
    }
   ],
   "source": [
    " import csv\n",
    " from konlpy.tag import Okt\n",
    " from gensim.models import word2vec\n",
    " import time\n",
    "\n",
    " #네이버 영화 코퍼스를 읽는다.\n",
    " f = open('ratings_train.txt', 'r', encoding='utf-8')\n",
    " rdr = csv.reader(f, delimiter='\\t')\n",
    " rdw = list(rdr)\n",
    " f.close()\n",
    "\n",
    " #트위터 형태소 분석기를 로드한다. Twiter가 KoNLPy v0.4.5 부터 Okt로 변경 되었다.\n",
    " twitter = Okt()\n",
    "print(\"Okt done\")\n",
    "\n",
    "start = time.time()\n",
    "print(\"형태소 분석 시작\")\n",
    "\n",
    " #텍스트를 한줄씩 처리합니다.\n",
    " result = []\n",
    " for line in rdw:\n",
    "     #형태소 분석하기, 단어 기본형 사용\n",
    "     malist = twitter.pos( line[1], norm=True, stem=True)\n",
    "     r = []\n",
    "     for word in malist:\n",
    "         #Josa”, “Eomi”, “'Punctuation” 는 제외하고 처리\n",
    "         if not word[1] in [\"Josa\",\"Eomi\",\"Punctuation\"]:\n",
    "             r.append(word[0])\n",
    "     #형태소 사이에 공백 \" \"  을 넣습니다. 그리고 양쪽 공백을 지웁니다.\n",
    "     rl = (\" \".join(r)).strip()\n",
    "     result.append(rl)\n",
    "     #print(rl)\n",
    "end = time.time()         \n",
    "print(\"형태소 분석 완료\")\n",
    "print(end - start, ' 초 결렸습니다')\n",
    "\n",
    " #형태소들을 별도의 파일로 저장 합니다.\n",
    " with open(\"NaverMovie.nlp\",'w', encoding='utf-8') as fp:\n",
    "     fp.write(\"\\n\".join(result))\n",
    "\n",
    " #Word2Vec 모델 만들기\n",
    " wData = word2vec.LineSentence(\"NaverMovie.nlp\")\n",
    "\n",
    "# 트레이닝 시간 측정 \n",
    "start = time.time()\n",
    "print(\"트레이닝 시작\")\n",
    " wModel =word2vec.Word2Vec(wData, size=200, window=10, hs=1, min_count=2, sg=1)\n",
    " wModel.save(\"NaverMovie.model\")\n",
    " print(\"Word2Vec 모델링 완료\")\n",
    "end = time.time()\n",
    "print(end - start, ' 초 결렸습니다') "
   ]
  },
  {
   "cell_type": "code",
   "execution_count": 7,
   "metadata": {
    "colab": {
     "base_uri": "https://localhost:8080/"
    },
    "executionInfo": {
     "elapsed": 683589,
     "status": "ok",
     "timestamp": 1620464905749,
     "user": {
      "displayName": "Daesung Chung",
      "photoUrl": "",
      "userId": "04591858293269658552"
     },
     "user_tz": -540
    },
    "id": "CPO-XaOm65F9",
    "outputId": "35c92ac8-c117-4e7d-80c5-9cdc53ddca63"
   },
   "outputs": [
    {
     "name": "stdout",
     "output_type": "stream",
     "text": [
      "total 123632\n",
      "-rw-r--r-- 1 root root 100433507 May  8 09:08 NaverMovie.model\n",
      "-rw-r--r-- 1 root root  11528154 May  8 09:06 NaverMovie.nlp\n",
      "-rw-r--r-- 1 root root  14628807 May  8 08:57 ratings_train.txt\n",
      "drwxr-xr-x 1 root root      4096 May  6 13:44 sample_data\n"
     ]
    }
   ],
   "source": [
    "! ls -l"
   ]
  },
  {
   "cell_type": "code",
   "execution_count": 8,
   "metadata": {
    "colab": {
     "base_uri": "https://localhost:8080/"
    },
    "executionInfo": {
     "elapsed": 685223,
     "status": "ok",
     "timestamp": 1620464907388,
     "user": {
      "displayName": "Daesung Chung",
      "photoUrl": "",
      "userId": "04591858293269658552"
     },
     "user_tz": -540
    },
    "id": "y0h_48Td65F9",
    "outputId": "52908637-6a92-4111-d199-b9f8be0e0083"
   },
   "outputs": [
    {
     "name": "stdout",
     "output_type": "stream",
     "text": [
      "[('최고다', 0.6902487277984619), ('꼽을', 0.6749166250228882), ('ER', 0.6575230956077576), ('러브라이브', 0.6559664011001587), ('하이스쿨', 0.6559215188026428), ('단연', 0.6539525985717773), ('으뜸', 0.6487302780151367), ('꼽는', 0.6475879549980164), ('꼽겠다', 0.6391108632087708), ('정치드라마', 0.6357114315032959)]\n"
     ]
    }
   ],
   "source": [
    "model = word2vec.Word2Vec.load(\"NaverMovie.model\")\n",
    "print(model.wv.most_similar(positive=[\"최고\"]))"
   ]
  }
 ],
 "metadata": {
  "colab": {
   "collapsed_sections": [],
   "name": "NaverMovie-withoutModel.ipynb",
   "provenance": []
  },
  "kernelspec": {
   "display_name": "Python 3.7",
   "language": "python",
   "name": "python3"
  },
  "language_info": {
   "codemirror_mode": {
    "name": "ipython",
    "version": 3
   },
   "file_extension": ".py",
   "mimetype": "text/x-python",
   "name": "python",
   "nbconvert_exporter": "python",
   "pygments_lexer": "ipython3",
   "version": "3.7.10"
  }
 },
 "nbformat": 4,
 "nbformat_minor": 1
}
