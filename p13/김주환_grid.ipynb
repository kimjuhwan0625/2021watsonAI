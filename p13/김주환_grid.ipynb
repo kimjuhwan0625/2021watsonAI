{
  "nbformat": 4,
  "nbformat_minor": 0,
  "metadata": {
    "colab": {
      "name": "gridsearch.ipynb",
      "provenance": [],
      "collapsed_sections": []
    },
    "kernelspec": {
      "name": "python3",
      "display_name": "Python 3"
    },
    "language_info": {
      "name": "python"
    }
  },
  "cells": [
    {
      "cell_type": "markdown",
      "metadata": {
        "id": "fPckXwWtpmYM"
      },
      "source": [
        "# Grid Search 실습"
      ]
    },
    {
      "cell_type": "markdown",
      "metadata": {
        "id": "bO3cy2LKp8ty"
      },
      "source": [
        "### 데이터셋 다운로드"
      ]
    },
    {
      "cell_type": "code",
      "metadata": {
        "id": "_-A09C_Ygd_E",
        "outputId": "fcfb741b-7d96-44bf-ad4e-a71839434a81",
        "colab": {
          "base_uri": "https://localhost:8080/"
        }
      },
      "source": [
        "! wget --no-check-certificate 'https://docs.google.com/uc?export=download&id=1GBtNoT3sC2ZjscrPKaFwb5pBEqLNrF9Z' -O pima-indians-diabetes.csv #https://drive.google.com/file/d/1GBtNoT3sC2ZjscrPKaFwb5pBEqLNrF9Z/view?usp=sharing"
      ],
      "execution_count": 2,
      "outputs": [
        {
          "output_type": "stream",
          "text": [
            "--2021-06-01 08:06:57--  https://docs.google.com/uc?export=download&id=1GBtNoT3sC2ZjscrPKaFwb5pBEqLNrF9Z\n",
            "Resolving docs.google.com (docs.google.com)... 142.250.101.139, 142.250.101.138, 142.250.101.102, ...\n",
            "Connecting to docs.google.com (docs.google.com)|142.250.101.139|:443... connected.\n",
            "HTTP request sent, awaiting response... 302 Moved Temporarily\n",
            "Location: https://doc-0o-1s-docs.googleusercontent.com/docs/securesc/ha0ro937gcuc7l7deffksulhg5h7mbp1/sr1h2kg72ccel6n3bqs0vq2l0hphi5km/1622534775000/04591858293269658552/*/1GBtNoT3sC2ZjscrPKaFwb5pBEqLNrF9Z?e=download [following]\n",
            "Warning: wildcards not supported in HTTP.\n",
            "--2021-06-01 08:06:57--  https://doc-0o-1s-docs.googleusercontent.com/docs/securesc/ha0ro937gcuc7l7deffksulhg5h7mbp1/sr1h2kg72ccel6n3bqs0vq2l0hphi5km/1622534775000/04591858293269658552/*/1GBtNoT3sC2ZjscrPKaFwb5pBEqLNrF9Z?e=download\n",
            "Resolving doc-0o-1s-docs.googleusercontent.com (doc-0o-1s-docs.googleusercontent.com)... 142.250.101.132, 2607:f8b0:4023:c06::84\n",
            "Connecting to doc-0o-1s-docs.googleusercontent.com (doc-0o-1s-docs.googleusercontent.com)|142.250.101.132|:443... connected.\n",
            "HTTP request sent, awaiting response... 200 OK\n",
            "Length: 23278 (23K) [text/csv]\n",
            "Saving to: ‘pima-indians-diabetes.csv’\n",
            "\n",
            "pima-indians-diabet 100%[===================>]  22.73K  --.-KB/s    in 0.02s   \n",
            "\n",
            "2021-06-01 08:06:58 (1.45 MB/s) - ‘pima-indians-diabetes.csv’ saved [23278/23278]\n",
            "\n"
          ],
          "name": "stdout"
        }
      ]
    },
    {
      "cell_type": "markdown",
      "metadata": {
        "id": "nordxEjdpl3R"
      },
      "source": [
        "## batch size와 epoch 최적화"
      ]
    },
    {
      "cell_type": "code",
      "metadata": {
        "collapsed": true,
        "id": "wjNvrMeJda5J",
        "outputId": "fa4ddce8-2105-4fab-f7fc-eed03f7f1357",
        "colab": {
          "base_uri": "https://localhost:8080/"
        }
      },
      "source": [
        "#@title\n",
        "# Use scikit-learn to grid search the batch size and epochs\n",
        "import numpy\n",
        "from sklearn.model_selection import GridSearchCV\n",
        "from keras.models import Sequential\n",
        "from keras.layers import Dense\n",
        "from keras.wrappers.scikit_learn import KerasClassifier\n",
        "# Function to create model, required for KerasClassifier\n",
        "def create_model():\n",
        "\t# create model\n",
        "\tmodel = Sequential()\n",
        "\tmodel.add(Dense(12, input_dim=8, activation='relu'))\n",
        "\tmodel.add(Dense(1, activation='sigmoid'))\n",
        "\t# Compile model\n",
        "\tmodel.compile(loss='binary_crossentropy', optimizer='adam', metrics=['accuracy'])\n",
        "\treturn model\n",
        "# fix random seed for reproducibility\n",
        "seed = 7\n",
        "numpy.random.seed(seed)\n",
        "# load dataset\n",
        "dataset = numpy.loadtxt(\"pima-indians-diabetes.csv\", delimiter=\",\")\n",
        "# split into input (X) and output (Y) variables\n",
        "X = dataset[:,0:8]\n",
        "Y = dataset[:,8]\n",
        "# create model\n",
        "model = KerasClassifier(build_fn=create_model, verbose=0)\n",
        "# define the grid search parameters\n",
        "batch_size = [10, 20, 40, 60, 80, 100]\n",
        "epochs = [10, 50, 100]\n",
        "param_grid = dict(batch_size=batch_size, epochs=epochs)\n",
        "grid = GridSearchCV(estimator=model, param_grid=param_grid, n_jobs=-1, cv=3)\n",
        "grid_result = grid.fit(X, Y)\n",
        "# summarize results\n",
        "print(\"Best: %f using %s\" % (grid_result.best_score_, grid_result.best_params_))\n",
        "means = grid_result.cv_results_['mean_test_score']\n",
        "stds = grid_result.cv_results_['std_test_score']\n",
        "params = grid_result.cv_results_['params']\n",
        "for mean, stdev, param in zip(means, stds, params):\n",
        "    print(\"%f (%f) with: %r\" % (mean, stdev, param))"
      ],
      "execution_count": 3,
      "outputs": [
        {
          "output_type": "stream",
          "text": [
            "Best: 0.720052 using {'batch_size': 10, 'epochs': 100}\n",
            "0.589844 (0.016877) with: {'batch_size': 10, 'epochs': 10}\n",
            "0.653646 (0.022402) with: {'batch_size': 10, 'epochs': 50}\n",
            "0.720052 (0.036690) with: {'batch_size': 10, 'epochs': 100}\n",
            "0.578125 (0.030425) with: {'batch_size': 20, 'epochs': 10}\n",
            "0.658854 (0.057880) with: {'batch_size': 20, 'epochs': 50}\n",
            "0.710938 (0.011500) with: {'batch_size': 20, 'epochs': 100}\n",
            "0.492188 (0.026107) with: {'batch_size': 40, 'epochs': 10}\n",
            "0.649740 (0.019488) with: {'batch_size': 40, 'epochs': 50}\n",
            "0.679688 (0.020915) with: {'batch_size': 40, 'epochs': 100}\n",
            "0.604167 (0.013279) with: {'batch_size': 60, 'epochs': 10}\n",
            "0.609375 (0.028348) with: {'batch_size': 60, 'epochs': 50}\n",
            "0.647135 (0.028764) with: {'batch_size': 60, 'epochs': 100}\n",
            "0.496094 (0.089304) with: {'batch_size': 80, 'epochs': 10}\n",
            "0.613281 (0.024910) with: {'batch_size': 80, 'epochs': 50}\n",
            "0.710938 (0.016877) with: {'batch_size': 80, 'epochs': 100}\n",
            "0.585938 (0.088388) with: {'batch_size': 100, 'epochs': 10}\n",
            "0.625000 (0.035516) with: {'batch_size': 100, 'epochs': 50}\n",
            "0.640625 (0.033603) with: {'batch_size': 100, 'epochs': 100}\n"
          ],
          "name": "stdout"
        }
      ]
    },
    {
      "cell_type": "markdown",
      "metadata": {
        "id": "Qa6Mtgpqq9p5"
      },
      "source": [
        "## 학습률과 모멘텀 최적화"
      ]
    },
    {
      "cell_type": "code",
      "metadata": {
        "colab": {
          "base_uri": "https://localhost:8080/"
        },
        "id": "i-7XNGr6ijr-",
        "outputId": "f425e8ff-d055-4283-f384-c536a3fa5a3c"
      },
      "source": [
        "#@title\n",
        "# Use scikit-learn to grid search the learning rate and momentum\n",
        "import numpy\n",
        "from sklearn.model_selection import GridSearchCV\n",
        "from keras.models import Sequential\n",
        "from keras.layers import Dense\n",
        "from keras.wrappers.scikit_learn import KerasClassifier\n",
        "from keras.optimizers import SGD\n",
        "import time\n",
        "# Function to create model, required for KerasClassifier\n",
        "def create_model(learn_rate=0.01, momentum=0):\n",
        "\t# create model\n",
        "\tmodelx = Sequential()\n",
        "\tmodelx.add(Dense(12, input_dim=8, activation='relu'))\n",
        "\tmodelx.add(Dense(1, activation='sigmoid'))\n",
        "\t# Compile model\n",
        "\toptimizer = SGD(lr=learn_rate, momentum=momentum)\n",
        "\tmodelx.compile(loss='binary_crossentropy', optimizer=optimizer, metrics=['accuracy'])\n",
        "\treturn modelx\n",
        "# fix random seed for reproducibility\n",
        "seed = 7\n",
        "numpy.random.seed(seed)\n",
        "# load dataset\n",
        "dataset = numpy.loadtxt(\"pima-indians-diabetes.csv\", delimiter=\",\")\n",
        "# split into input (X) and output (Y) variables\n",
        "X = dataset[:,0:8]\n",
        "Y = dataset[:,8]\n",
        "# create model\n",
        "modelx = KerasClassifier(build_fn=create_model, epochs=100, batch_size=10, verbose=0)\n",
        "# define the grid search parameters\n",
        "learn_rate = [0.001, 0.01, 0.1, 0.2, 0.3]\n",
        "momentum = [0.0, 0.2, 0.4, 0.6, 0.8, 0.9]\n",
        "param_grid = dict(learn_rate=learn_rate, momentum=momentum)\n",
        "grid = GridSearchCV(estimator=modelx, param_grid=param_grid, n_jobs=-1, cv=3)\n",
        "\n",
        "# 트레이닝 시작\n",
        "start = time.time()\n",
        "print(\"트레이닝 시작\")\n",
        "grid_result = grid.fit(X, Y)\n",
        "end = time.time()\n",
        "print(end - start, ' 초 결렸습니다')    \n",
        "\n",
        "# summarize results\n",
        "print(\"Best: %f using %s\" % (grid_result.best_score_, grid_result.best_params_))\n",
        "means = grid_result.cv_results_['mean_test_score']\n",
        "stds = grid_result.cv_results_['std_test_score']\n",
        "params = grid_result.cv_results_['params']\n",
        "for mean, stdev, param in zip(means, stds, params):\n",
        "    print(\"%f (%f) with: %r\" % (mean, stdev, param))"
      ],
      "execution_count": 4,
      "outputs": [
        {
          "output_type": "stream",
          "text": [
            "트레이닝 시작\n"
          ],
          "name": "stdout"
        },
        {
          "output_type": "stream",
          "text": [
            "/usr/local/lib/python3.7/dist-packages/tensorflow/python/keras/optimizer_v2/optimizer_v2.py:375: UserWarning: The `lr` argument is deprecated, use `learning_rate` instead.\n",
            "  \"The `lr` argument is deprecated, use `learning_rate` instead.\")\n"
          ],
          "name": "stderr"
        },
        {
          "output_type": "stream",
          "text": [
            "410.46758699417114  초 결렸습니다\n",
            "Best: 0.694010 using {'learn_rate': 0.001, 'momentum': 0.6}\n",
            "0.683594 (0.009568) with: {'learn_rate': 0.001, 'momentum': 0.0}\n",
            "0.669271 (0.011201) with: {'learn_rate': 0.001, 'momentum': 0.2}\n",
            "0.669271 (0.004872) with: {'learn_rate': 0.001, 'momentum': 0.4}\n",
            "0.694010 (0.029635) with: {'learn_rate': 0.001, 'momentum': 0.6}\n",
            "0.691406 (0.014616) with: {'learn_rate': 0.001, 'momentum': 0.8}\n",
            "0.651042 (0.027866) with: {'learn_rate': 0.001, 'momentum': 0.9}\n",
            "0.598958 (0.056727) with: {'learn_rate': 0.01, 'momentum': 0.0}\n",
            "0.653646 (0.036690) with: {'learn_rate': 0.01, 'momentum': 0.2}\n",
            "0.666667 (0.009207) with: {'learn_rate': 0.01, 'momentum': 0.4}\n",
            "0.649740 (0.026557) with: {'learn_rate': 0.01, 'momentum': 0.6}\n",
            "0.651042 (0.024774) with: {'learn_rate': 0.01, 'momentum': 0.8}\n",
            "0.652344 (0.025315) with: {'learn_rate': 0.01, 'momentum': 0.9}\n",
            "0.651042 (0.024774) with: {'learn_rate': 0.1, 'momentum': 0.0}\n",
            "0.651042 (0.024774) with: {'learn_rate': 0.1, 'momentum': 0.2}\n",
            "0.651042 (0.024774) with: {'learn_rate': 0.1, 'momentum': 0.4}\n",
            "0.651042 (0.024774) with: {'learn_rate': 0.1, 'momentum': 0.6}\n",
            "0.651042 (0.024774) with: {'learn_rate': 0.1, 'momentum': 0.8}\n",
            "0.651042 (0.024774) with: {'learn_rate': 0.1, 'momentum': 0.9}\n",
            "0.651042 (0.024774) with: {'learn_rate': 0.2, 'momentum': 0.0}\n",
            "0.651042 (0.024774) with: {'learn_rate': 0.2, 'momentum': 0.2}\n",
            "0.651042 (0.024774) with: {'learn_rate': 0.2, 'momentum': 0.4}\n",
            "0.652344 (0.022999) with: {'learn_rate': 0.2, 'momentum': 0.6}\n",
            "0.651042 (0.024774) with: {'learn_rate': 0.2, 'momentum': 0.8}\n",
            "0.651042 (0.024774) with: {'learn_rate': 0.2, 'momentum': 0.9}\n",
            "0.651042 (0.024774) with: {'learn_rate': 0.3, 'momentum': 0.0}\n",
            "0.651042 (0.024774) with: {'learn_rate': 0.3, 'momentum': 0.2}\n",
            "0.651042 (0.024774) with: {'learn_rate': 0.3, 'momentum': 0.4}\n",
            "0.651042 (0.024774) with: {'learn_rate': 0.3, 'momentum': 0.6}\n",
            "0.651042 (0.024774) with: {'learn_rate': 0.3, 'momentum': 0.8}\n",
            "0.651042 (0.024774) with: {'learn_rate': 0.3, 'momentum': 0.9}\n"
          ],
          "name": "stdout"
        }
      ]
    },
    {
      "cell_type": "code",
      "metadata": {
        "id": "cljHZ3vCrIsj",
        "outputId": "2e91d430-ae1b-42cc-8e34-5ec9d37294e2",
        "colab": {
          "base_uri": "https://localhost:8080/"
        }
      },
      "source": [
        "# Use scikit-learn to grid search the learning rate and momentum\n",
        "import numpy\n",
        "from sklearn.model_selection import GridSearchCV\n",
        "from keras.models import Sequential\n",
        "from keras.layers import Dense\n",
        "from keras.wrappers.scikit_learn import KerasClassifier\n",
        "from keras.optimizers import SGD\n",
        "import time\n",
        "# Function to create model, required for KerasClassifier\n",
        "def create_model(learn_rate=0.01, momentum=0):\n",
        "\t# create model\n",
        "\tmodelx = Sequential()\n",
        "\tmodelx.add(Dense(12, input_dim=8, activation='relu'))\n",
        "\tmodelx.add(Dense(1, activation='sigmoid'))\n",
        "\t# Compile model\n",
        "\toptimizer = SGD(lr=learn_rate, momentum=momentum)\n",
        "\tmodelx.compile(loss='binary_crossentropy', optimizer=optimizer, metrics=['accuracy'])\n",
        "\treturn modelx\n",
        "# fix random seed for reproducibility\n",
        "seed = 7\n",
        "numpy.random.seed(seed)\n",
        "# load dataset\n",
        "dataset = numpy.loadtxt(\"pima-indians-diabetes.csv\", delimiter=\",\")\n",
        "# split into input (X) and output (Y) variables\n",
        "X = dataset[:,0:8]\n",
        "Y = dataset[:,8]\n",
        "# create model\n",
        "modelx = KerasClassifier(build_fn=create_model, epochs=100, batch_size=10, verbose=0)\n",
        "# define the grid search parameters\n",
        "# learn_rate와 momentum 두 개의 하이퍼파라미터의 그리드를 코드로 정의하십시오. \n",
        "# learn_rate는 0.001, 0.01. 0.1, 0.2, 0.3로 하고 momentum은 0.0, 0.2, 0.4, 0.6, 0.8, 0.9로 하십시오.\n",
        "learn_rate = [0.001, 0.01, 0.1, 0.2, 0.3]\n",
        "momentum = [0.0, 0.2, 0.4, 0.6, 0.8, 0.9]\n",
        "param_grid = dict(learn_rate=learn_rate, momentum=momentum)\n",
        "grid = GridSearchCV(estimator=modelx, param_grid=param_grid, n_jobs=-1, cv=3)\n",
        "\n",
        "# 트레이닝 시작\n",
        "start = time.time()\n",
        "print(\"트레이닝 시작\")\n",
        "grid_result = grid.fit(X, Y)\n",
        "end = time.time()\n",
        "print(end - start, ' 초 결렸습니다') \n",
        "\n",
        "# summarize results\n",
        "print(\"Best: %f using %s\" % (grid_result.best_score_, grid_result.best_params_))\n",
        "means = grid_result.cv_results_['mean_test_score']\n",
        "stds = grid_result.cv_results_['std_test_score']\n",
        "params = grid_result.cv_results_['params']\n",
        "for mean, stdev, param in zip(means, stds, params):\n",
        "    print(\"%f (%f) with: %r\" % (mean, stdev, param))\n"
      ],
      "execution_count": 5,
      "outputs": [
        {
          "output_type": "stream",
          "text": [
            "트레이닝 시작\n"
          ],
          "name": "stdout"
        },
        {
          "output_type": "stream",
          "text": [
            "/usr/local/lib/python3.7/dist-packages/tensorflow/python/keras/optimizer_v2/optimizer_v2.py:375: UserWarning: The `lr` argument is deprecated, use `learning_rate` instead.\n",
            "  \"The `lr` argument is deprecated, use `learning_rate` instead.\")\n"
          ],
          "name": "stderr"
        },
        {
          "output_type": "stream",
          "text": [
            "426.25091767311096  초 결렸습니다\n",
            "Best: 0.695312 using {'learn_rate': 0.001, 'momentum': 0.0}\n",
            "0.695312 (0.030425) with: {'learn_rate': 0.001, 'momentum': 0.0}\n",
            "0.684896 (0.010253) with: {'learn_rate': 0.001, 'momentum': 0.2}\n",
            "0.665365 (0.031466) with: {'learn_rate': 0.001, 'momentum': 0.4}\n",
            "0.692708 (0.015073) with: {'learn_rate': 0.001, 'momentum': 0.6}\n",
            "0.651042 (0.040133) with: {'learn_rate': 0.001, 'momentum': 0.8}\n",
            "0.678385 (0.028764) with: {'learn_rate': 0.001, 'momentum': 0.9}\n",
            "0.640625 (0.041463) with: {'learn_rate': 0.01, 'momentum': 0.0}\n",
            "0.654948 (0.028940) with: {'learn_rate': 0.01, 'momentum': 0.2}\n",
            "0.630208 (0.041010) with: {'learn_rate': 0.01, 'momentum': 0.4}\n",
            "0.654948 (0.026748) with: {'learn_rate': 0.01, 'momentum': 0.6}\n",
            "0.649740 (0.026557) with: {'learn_rate': 0.01, 'momentum': 0.8}\n",
            "0.651042 (0.024774) with: {'learn_rate': 0.01, 'momentum': 0.9}\n",
            "0.649740 (0.024360) with: {'learn_rate': 0.1, 'momentum': 0.0}\n",
            "0.651042 (0.024774) with: {'learn_rate': 0.1, 'momentum': 0.2}\n",
            "0.651042 (0.024774) with: {'learn_rate': 0.1, 'momentum': 0.4}\n",
            "0.651042 (0.024774) with: {'learn_rate': 0.1, 'momentum': 0.6}\n",
            "0.651042 (0.024774) with: {'learn_rate': 0.1, 'momentum': 0.8}\n",
            "0.652344 (0.025315) with: {'learn_rate': 0.1, 'momentum': 0.9}\n",
            "0.652344 (0.026107) with: {'learn_rate': 0.2, 'momentum': 0.0}\n",
            "0.651042 (0.024774) with: {'learn_rate': 0.2, 'momentum': 0.2}\n",
            "0.651042 (0.024774) with: {'learn_rate': 0.2, 'momentum': 0.4}\n",
            "0.651042 (0.024774) with: {'learn_rate': 0.2, 'momentum': 0.6}\n",
            "0.651042 (0.024774) with: {'learn_rate': 0.2, 'momentum': 0.8}\n",
            "0.651042 (0.024774) with: {'learn_rate': 0.2, 'momentum': 0.9}\n",
            "0.651042 (0.024774) with: {'learn_rate': 0.3, 'momentum': 0.0}\n",
            "0.651042 (0.024774) with: {'learn_rate': 0.3, 'momentum': 0.2}\n",
            "0.651042 (0.024774) with: {'learn_rate': 0.3, 'momentum': 0.4}\n",
            "0.649740 (0.023510) with: {'learn_rate': 0.3, 'momentum': 0.6}\n",
            "0.651042 (0.024774) with: {'learn_rate': 0.3, 'momentum': 0.8}\n",
            "0.651042 (0.024774) with: {'learn_rate': 0.3, 'momentum': 0.9}\n"
          ],
          "name": "stdout"
        }
      ]
    },
    {
      "cell_type": "code",
      "metadata": {
        "id": "9rX5K2DR1ai5"
      },
      "source": [
        "from keras.layers import Dropout \n",
        "layer = Dropout(rate=0.2, input_shape=(2,))"
      ],
      "execution_count": 8,
      "outputs": []
    },
    {
      "cell_type": "code",
      "metadata": {
        "id": "47-MCbIn2UHc"
      },
      "source": [
        "from keras.layers import LeakyReLU\n",
        "layer = LeakyReLU(alpha=0.1)"
      ],
      "execution_count": 9,
      "outputs": []
    }
  ]
}